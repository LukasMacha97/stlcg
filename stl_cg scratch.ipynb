{
 "cells": [
  {
   "cell_type": "code",
   "execution_count": 1,
   "metadata": {},
   "outputs": [],
   "source": [
    "import torch\n",
    "import numpy as np\n",
    "import tensorflow as tf\n",
    "from abc import ABC, abstractmethod\n",
    "from stlcg import *\n",
    "from stlviz import make_stl_graph"
   ]
  },
  {
   "cell_type": "code",
   "execution_count": 2,
   "metadata": {},
   "outputs": [],
   "source": [
    "x = torch.randn([1, 10, 1], requires_grad=False)\n",
    "w = torch.randn([1, 10, 1], requires_grad=False)\n",
    "c = torch.tensor(1.0, dtype=torch.float, requires_grad=True)\n",
    "d = torch.tensor(-1.0, dtype=torch.float, requires_grad=True)"
   ]
  },
  {
   "cell_type": "code",
   "execution_count": 3,
   "metadata": {},
   "outputs": [
    {
     "name": "stdout",
     "output_type": "stream",
     "text": [
      "w >= d\n",
      "x <= c\n",
      "x = c\n",
      "x = c\n",
      "◻ [0, inf]( (x <= c) ∧ (w >= d) )\n",
      "◻ [0, inf]( (x <= c) ∧ (w >= d) )\n"
     ]
    }
   ],
   "source": [
    "GThan = GreaterThan(name=\"w\", c='d')\n",
    "print(GThan)\n",
    "LThan = LessThan(name=\"x\", c='c')\n",
    "print(LThan)\n",
    "Eq = Equal(name=\"x\", c=\"c\")\n",
    "print(Eq)\n",
    "An = And(subformula1=LThan, subformula2=GThan)\n",
    "print(Eq)\n",
    "Alw = Always(subformula=An)\n",
    "print(Alw)\n",
    "Ev = Eventually(subformula=An)\n",
    "print(Alw)"
   ]
  },
  {
   "cell_type": "code",
   "execution_count": 4,
   "metadata": {},
   "outputs": [
    {
     "data": {
      "text/plain": [
       "tensor([[[-1.5927],\n",
       "         [-1.1749],\n",
       "         [-3.0605],\n",
       "         [ 1.0519],\n",
       "         [ 0.9368],\n",
       "         [-1.3302],\n",
       "         [-2.7669],\n",
       "         [-0.5763],\n",
       "         [ 0.1860],\n",
       "         [ 0.8208]]])"
      ]
     },
     "execution_count": 4,
     "metadata": {},
     "output_type": "execute_result"
    }
   ],
   "source": [
    "ψ = LThan\n",
    "ϕ = GThan\n",
    "π = Eventually()\n",
    "δ = Always()\n",
    "x"
   ]
  },
  {
   "cell_type": "code",
   "execution_count": 34,
   "metadata": {},
   "outputs": [],
   "source": [
    "?minish"
   ]
  },
  {
   "cell_type": "code",
   "execution_count": 39,
   "metadata": {},
   "outputs": [],
   "source": [
    "a = ψ(x, c)\n",
    "b = ϕ(x[:,1:,:], c)"
   ]
  },
  {
   "cell_type": "code",
   "execution_count": 124,
   "metadata": {},
   "outputs": [
    {
     "data": {
      "text/plain": [
       "torch.Size([1, 9, 1, 1])"
      ]
     },
     "execution_count": 124,
     "metadata": {},
     "output_type": "execute_result"
    }
   ],
   "source": [
    "i = 1\n",
    "minish(torch.stack([δ(ϕ(x[:,i:,:], c)), lhs[:,i:,:,1]], dim=-1), dim=-1, scale=0).shape"
   ]
  },
  {
   "cell_type": "code",
   "execution_count": 121,
   "metadata": {},
   "outputs": [],
   "source": [
    "v = torch.ones([1, 9, 1])*1000"
   ]
  },
  {
   "cell_type": "code",
   "execution_count": null,
   "metadata": {},
   "outputs": [],
   "source": [
    "for i in range(1,10):\n",
    "    "
   ]
  },
  {
   "cell_type": "code",
   "execution_count": 119,
   "metadata": {},
   "outputs": [
    {
     "data": {
      "text/plain": [
       "[tensor([[[[-2.1749]],\n",
       " \n",
       "          [[-4.0605]],\n",
       " \n",
       "          [[-4.0605]],\n",
       " \n",
       "          [[-4.0605]],\n",
       " \n",
       "          [[-4.0605]],\n",
       " \n",
       "          [[-4.0605]],\n",
       " \n",
       "          [[-4.0605]],\n",
       " \n",
       "          [[-4.0605]],\n",
       " \n",
       "          [[-4.0605]]]], grad_fn=<MinBackward0>), tensor([[[[-4.0605]],\n",
       " \n",
       "          [[-4.0605]],\n",
       " \n",
       "          [[-4.0605]],\n",
       " \n",
       "          [[-4.0605]],\n",
       " \n",
       "          [[-4.0605]],\n",
       " \n",
       "          [[-4.0605]],\n",
       " \n",
       "          [[-4.0605]],\n",
       " \n",
       "          [[-4.0605]]]], grad_fn=<MinBackward0>), tensor([[[[ 0.0519]],\n",
       " \n",
       "          [[-0.0632]],\n",
       " \n",
       "          [[-2.3302]],\n",
       " \n",
       "          [[-3.7669]],\n",
       " \n",
       "          [[-3.7669]],\n",
       " \n",
       "          [[-3.7669]],\n",
       " \n",
       "          [[-3.7669]]]], grad_fn=<MinBackward0>), tensor([[[[-0.0632]],\n",
       " \n",
       "          [[-2.3302]],\n",
       " \n",
       "          [[-3.7669]],\n",
       " \n",
       "          [[-3.7669]],\n",
       " \n",
       "          [[-3.7669]],\n",
       " \n",
       "          [[-3.7669]]]], grad_fn=<MinBackward0>), tensor([[[[-2.3302]],\n",
       " \n",
       "          [[-3.7669]],\n",
       " \n",
       "          [[-3.7669]],\n",
       " \n",
       "          [[-3.7669]],\n",
       " \n",
       "          [[-3.7669]]]], grad_fn=<MinBackward0>), tensor([[[[-3.7669]],\n",
       " \n",
       "          [[-3.7669]],\n",
       " \n",
       "          [[-3.7669]],\n",
       " \n",
       "          [[-3.7669]]]], grad_fn=<MinBackward0>), tensor([[[[-1.5763]],\n",
       " \n",
       "          [[-1.5763]],\n",
       " \n",
       "          [[-1.5763]]]], grad_fn=<MinBackward0>), tensor([[[[-0.8140]],\n",
       " \n",
       "          [[-0.8140]]]], grad_fn=<MinBackward0>), tensor([[[[-0.1792]]]], grad_fn=<MinBackward0>)]"
      ]
     },
     "execution_count": 119,
     "metadata": {},
     "output_type": "execute_result"
    }
   ],
   "source": [
    "[minish(torch.stack([δ(ϕ(x[:,i:,:], c)), lhs[:,i:,:,1]], dim=-1), dim=-1, scale=0) for i in range(1,10)]"
   ]
  },
  {
   "cell_type": "code",
   "execution_count": 104,
   "metadata": {},
   "outputs": [],
   "source": [
    "lhs = a[:,:-1,:].permute(0, 2, 1).unsqueeze(1).repeat(1,10,1,1)"
   ]
  },
  {
   "cell_type": "code",
   "execution_count": 108,
   "metadata": {},
   "outputs": [
    {
     "data": {
      "text/plain": [
       "torch.Size([1, 8, 1])"
      ]
     },
     "execution_count": 108,
     "metadata": {},
     "output_type": "execute_result"
    }
   ],
   "source": [
    "lhs[:,2:,:,1].shape"
   ]
  },
  {
   "cell_type": "code",
   "execution_count": 63,
   "metadata": {},
   "outputs": [
    {
     "data": {
      "text/plain": [
       "torch.Size([1, 9, 1, 2])"
      ]
     },
     "execution_count": 63,
     "metadata": {},
     "output_type": "execute_result"
    }
   ],
   "source": [
    "torch.stack([a[:,:-1,:], torch.cat([minish(ϕ(x[:,i:,:], c), scale=0) for i in range(1,10)], dim=1)], dim=-1).shape"
   ]
  },
  {
   "cell_type": "code",
   "execution_count": null,
   "metadata": {},
   "outputs": [],
   "source": [
    "class Until(STL_Formula):\n",
    "    '''\n",
    "    ϕ U ψ\n",
    "    max[t'\\in[t, t+k]] (min (ρ(t':t+k, ψ), min[t''\\in[t:t') ρ(t'':t, ϕ)]) )\n",
    "    '''\n",
    "    def __init__(self, subformula1='ϕ', subformula2='ψ'):\n",
    "        \n",
    "        super(LessThan, self).__init__()\n",
    "        self.subformula1 = subformula1\n",
    "        self.subformula2 = subformula2\n",
    "\n",
    "    def robustness_trace(self, x, c, scale=1):\n",
    "        if scale == 1:\n",
    "            return c - x\n",
    "        return (c - x)*scale\n",
    "\n",
    "    def robustness(self, x, c, time=-1, scale=1):\n",
    "        return self.robustness_trace(x, c, scale)[:,time,:].unsqueeze(1)\n",
    "\n",
    "    def eval_trace(self, x, c, scale=1):\n",
    "        return self.robustness_trace(x, c, scale) > 0\n",
    "\n",
    "    def eval(self, x, c, time=-1, scale=1):\n",
    "        return self.eval_trace(x, c, scale)[:,time,:].unsqueeze(1)\n",
    "\n",
    "    def _next_function(self):\n",
    "        # next function is actually input (traverses the graph backwards)\n",
    "        return [self.name, self.c]  \n",
    "    \n",
    "    def forward(self, x, c, scale=1):\n",
    "        return self.robustness_trace(x, c, scale)\n",
    "\n",
    "    def __str__(self):\n",
    "        return self.name + \" <= \" + str(self.c)\n",
    "\n",
    "\n"
   ]
  },
  {
   "cell_type": "code",
   "execution_count": 54,
   "metadata": {},
   "outputs": [
    {
     "data": {
      "text/plain": [
       "tensor([[[0.8208]]])"
      ]
     },
     "execution_count": 54,
     "metadata": {},
     "output_type": "execute_result"
    }
   ],
   "source": [
    "x[:,9:,:]"
   ]
  },
  {
   "cell_type": "code",
   "execution_count": 46,
   "metadata": {},
   "outputs": [
    {
     "data": {
      "text/plain": [
       "tensor([[[0.8208]]])"
      ]
     },
     "execution_count": 46,
     "metadata": {},
     "output_type": "execute_result"
    }
   ],
   "source": [
    "x[:,-1:,:]"
   ]
  },
  {
   "cell_type": "code",
   "execution_count": 43,
   "metadata": {},
   "outputs": [
    {
     "data": {
      "text/plain": [
       "tensor([[[-2.1749],\n",
       "         [-4.0605],\n",
       "         [ 0.0519],\n",
       "         [-0.0632],\n",
       "         [-2.3302],\n",
       "         [-3.7669],\n",
       "         [-1.5763],\n",
       "         [-0.8140],\n",
       "         [-0.1792]]], grad_fn=<SubBackward0>)"
      ]
     },
     "execution_count": 43,
     "metadata": {},
     "output_type": "execute_result"
    }
   ],
   "source": [
    "\n",
    "b"
   ]
  },
  {
   "cell_type": "code",
   "execution_count": null,
   "metadata": {},
   "outputs": [],
   "source": []
  },
  {
   "cell_type": "code",
   "execution_count": null,
   "metadata": {},
   "outputs": [],
   "source": []
  },
  {
   "cell_type": "code",
   "execution_count": null,
   "metadata": {},
   "outputs": [],
   "source": []
  },
  {
   "cell_type": "code",
   "execution_count": 11,
   "metadata": {},
   "outputs": [],
   "source": [
    "minish = Minish()"
   ]
  },
  {
   "cell_type": "code",
   "execution_count": 8,
   "metadata": {},
   "outputs": [
    {
     "data": {
      "text/plain": [
       "tensor([[[ 2.0519],\n",
       "         [ 1.9368],\n",
       "         [-0.3302],\n",
       "         [-1.7669],\n",
       "         [-1.7669],\n",
       "         [-1.7669],\n",
       "         [-1.7669]]], grad_fn=<CatBackward>)"
      ]
     },
     "execution_count": 8,
     "metadata": {},
     "output_type": "execute_result"
    }
   ],
   "source": [
    "j = 3\n",
    "b = ϕ(x[:,j:], d)\n",
    "δ(b)"
   ]
  },
  {
   "cell_type": "code",
   "execution_count": 9,
   "metadata": {},
   "outputs": [
    {
     "data": {
      "text/plain": [
       "['w', 'd']"
      ]
     },
     "execution_count": 9,
     "metadata": {},
     "output_type": "execute_result"
    }
   ],
   "source": [
    "GThan._next_function()"
   ]
  },
  {
   "cell_type": "code",
   "execution_count": null,
   "metadata": {},
   "outputs": [],
   "source": [
    "# [batch_size, t, x_dim, t_prime]"
   ]
  },
  {
   "cell_type": "code",
   "execution_count": 12,
   "metadata": {},
   "outputs": [],
   "source": [
    "p = []\n",
    "for j in range(1, x.shape[1]):\n",
    "    p.append(minish(ϕ(x[:,j:], d), scale=0))\n"
   ]
  },
  {
   "cell_type": "code",
   "execution_count": 13,
   "metadata": {},
   "outputs": [
    {
     "data": {
      "text/plain": [
       "tensor([[[-2.0605],\n",
       "         [-2.0605],\n",
       "         [-1.7669],\n",
       "         [-1.7669],\n",
       "         [-1.7669],\n",
       "         [-1.7669],\n",
       "         [ 0.4237],\n",
       "         [ 1.1860],\n",
       "         [ 1.8208]]], grad_fn=<CatBackward>)"
      ]
     },
     "execution_count": 13,
     "metadata": {},
     "output_type": "execute_result"
    }
   ],
   "source": [
    "torch.cat(p, dim=1)"
   ]
  },
  {
   "cell_type": "code",
   "execution_count": 2,
   "metadata": {},
   "outputs": [],
   "source": []
  },
  {
   "cell_type": "code",
   "execution_count": 14,
   "metadata": {},
   "outputs": [
    {
     "name": "stdout",
     "output_type": "stream",
     "text": [
      "w >= d\n",
      "x <= c\n",
      "x = c\n",
      "x = c\n",
      "◻ [0, inf]( (x <= c) ∧ (w >= d) )\n"
     ]
    }
   ],
   "source": [
    "GThan = GreaterThan(name=\"w\", c='d')\n",
    "print(GThan)\n",
    "LThan = LessThan(name=\"x\", c='c')\n",
    "print(LThan)\n",
    "Eq = Equal(name=\"x\", c=\"c\")\n",
    "print(Eq)\n",
    "An = And(subformula1=LThan, subformula2=GThan)\n",
    "print(Eq)\n",
    "Alw = Always(subformula=An)\n",
    "print(Alw)\n"
   ]
  },
  {
   "cell_type": "code",
   "execution_count": 15,
   "metadata": {},
   "outputs": [
    {
     "data": {
      "image/svg+xml": [
       "<?xml version=\"1.0\" encoding=\"UTF-8\" standalone=\"no\"?>\n",
       "<!DOCTYPE svg PUBLIC \"-//W3C//DTD SVG 1.1//EN\"\n",
       " \"http://www.w3.org/Graphics/SVG/1.1/DTD/svg11.dtd\">\n",
       "<!-- Generated by graphviz version 2.38.0 (20140413.2041)\n",
       " -->\n",
       "<!-- Title: %3 Pages: 1 -->\n",
       "<svg width=\"286pt\" height=\"200pt\"\n",
       " viewBox=\"0.00 0.00 286.00 200.00\" xmlns=\"http://www.w3.org/2000/svg\" xmlns:xlink=\"http://www.w3.org/1999/xlink\">\n",
       "<g id=\"graph0\" class=\"graph\" transform=\"scale(1 1) rotate(0) translate(4 196)\">\n",
       "<title>%3</title>\n",
       "<polygon fill=\"white\" stroke=\"none\" points=\"-4,4 -4,-196 282,-196 282,4 -4,4\"/>\n",
       "<!-- 140049697698816 -->\n",
       "<g id=\"node1\" class=\"node\"><title>140049697698816</title>\n",
       "<polygon fill=\"orange\" stroke=\"black\" points=\"166,-21 112,-21 112,-0 166,-0 166,-21\"/>\n",
       "<text text-anchor=\"middle\" x=\"139\" y=\"-7.4\" font-family=\"Times,serif\" font-size=\"12.00\">Always</text>\n",
       "</g>\n",
       "<!-- 140049698281904 -->\n",
       "<g id=\"node2\" class=\"node\"><title>140049698281904</title>\n",
       "<polygon fill=\"orange\" stroke=\"black\" points=\"166,-78 112,-78 112,-57 166,-57 166,-78\"/>\n",
       "<text text-anchor=\"middle\" x=\"139\" y=\"-64.4\" font-family=\"Times,serif\" font-size=\"12.00\">And</text>\n",
       "</g>\n",
       "<!-- 140049698281904&#45;&gt;140049697698816 -->\n",
       "<g id=\"edge1\" class=\"edge\"><title>140049698281904&#45;&gt;140049697698816</title>\n",
       "<path fill=\"none\" stroke=\"black\" d=\"M139,-56.9197C139,-49.9083 139,-40.1442 139,-31.4652\"/>\n",
       "<polygon fill=\"black\" stroke=\"black\" points=\"142.5,-31.3408 139,-21.3408 135.5,-31.3409 142.5,-31.3408\"/>\n",
       "</g>\n",
       "<!-- 140049697698480 -->\n",
       "<g id=\"node3\" class=\"node\"><title>140049697698480</title>\n",
       "<polygon fill=\"orange\" stroke=\"black\" points=\"126.5,-135 63.5,-135 63.5,-114 126.5,-114 126.5,-135\"/>\n",
       "<text text-anchor=\"middle\" x=\"95\" y=\"-121.4\" font-family=\"Times,serif\" font-size=\"12.00\">LessThan</text>\n",
       "</g>\n",
       "<!-- 140049697698480&#45;&gt;140049698281904 -->\n",
       "<g id=\"edge2\" class=\"edge\"><title>140049697698480&#45;&gt;140049698281904</title>\n",
       "<path fill=\"none\" stroke=\"black\" d=\"M102.664,-113.92C108.772,-106.285 117.491,-95.3867 124.857,-86.1792\"/>\n",
       "<polygon fill=\"black\" stroke=\"black\" points=\"127.613,-88.336 131.127,-78.3408 122.147,-83.9631 127.613,-88.336\"/>\n",
       "</g>\n",
       "<!-- 140053613672856 -->\n",
       "<g id=\"node4\" class=\"node\"><title>140053613672856</title>\n",
       "<polygon fill=\"orange\" stroke=\"black\" points=\"54,-192 0,-192 0,-171 54,-171 54,-192\"/>\n",
       "<text text-anchor=\"middle\" x=\"27\" y=\"-178.4\" font-family=\"Times,serif\" font-size=\"12.00\">x</text>\n",
       "</g>\n",
       "<!-- 140053613672856&#45;&gt;140049697698480 -->\n",
       "<g id=\"edge3\" class=\"edge\"><title>140053613672856&#45;&gt;140049697698480</title>\n",
       "<path fill=\"none\" stroke=\"black\" d=\"M38.8447,-170.92C48.7655,-162.896 63.1438,-151.266 74.8674,-141.784\"/>\n",
       "<polygon fill=\"black\" stroke=\"black\" points=\"77.2591,-144.351 82.8332,-135.341 72.857,-138.908 77.2591,-144.351\"/>\n",
       "</g>\n",
       "<!-- 140053613529328 -->\n",
       "<g id=\"node5\" class=\"node\"><title>140053613529328</title>\n",
       "<polygon fill=\"orange\" stroke=\"black\" points=\"126,-192 72,-192 72,-171 126,-171 126,-192\"/>\n",
       "<text text-anchor=\"middle\" x=\"99\" y=\"-178.4\" font-family=\"Times,serif\" font-size=\"12.00\">c</text>\n",
       "</g>\n",
       "<!-- 140053613529328&#45;&gt;140049697698480 -->\n",
       "<g id=\"edge4\" class=\"edge\"><title>140053613529328&#45;&gt;140049697698480</title>\n",
       "<path fill=\"none\" stroke=\"black\" d=\"M98.3033,-170.92C97.7933,-163.908 97.0832,-154.144 96.452,-145.465\"/>\n",
       "<polygon fill=\"black\" stroke=\"black\" points=\"99.9319,-145.061 95.7157,-135.341 92.9504,-145.568 99.9319,-145.061\"/>\n",
       "</g>\n",
       "<!-- 140049697698424 -->\n",
       "<g id=\"node6\" class=\"node\"><title>140049697698424</title>\n",
       "<polygon fill=\"orange\" stroke=\"black\" points=\"221.5,-135 144.5,-135 144.5,-114 221.5,-114 221.5,-135\"/>\n",
       "<text text-anchor=\"middle\" x=\"183\" y=\"-121.4\" font-family=\"Times,serif\" font-size=\"12.00\">GreaterThan</text>\n",
       "</g>\n",
       "<!-- 140049697698424&#45;&gt;140049698281904 -->\n",
       "<g id=\"edge5\" class=\"edge\"><title>140049697698424&#45;&gt;140049698281904</title>\n",
       "<path fill=\"none\" stroke=\"black\" d=\"M175.336,-113.92C169.228,-106.285 160.509,-95.3867 153.143,-86.1792\"/>\n",
       "<polygon fill=\"black\" stroke=\"black\" points=\"155.853,-83.9631 146.873,-78.3408 150.387,-88.336 155.853,-83.9631\"/>\n",
       "</g>\n",
       "<!-- 140053613161752 -->\n",
       "<g id=\"node7\" class=\"node\"><title>140053613161752</title>\n",
       "<polygon fill=\"orange\" stroke=\"black\" points=\"206,-192 152,-192 152,-171 206,-171 206,-192\"/>\n",
       "<text text-anchor=\"middle\" x=\"179\" y=\"-178.4\" font-family=\"Times,serif\" font-size=\"12.00\">w</text>\n",
       "</g>\n",
       "<!-- 140053613161752&#45;&gt;140049697698424 -->\n",
       "<g id=\"edge6\" class=\"edge\"><title>140053613161752&#45;&gt;140049697698424</title>\n",
       "<path fill=\"none\" stroke=\"black\" d=\"M179.697,-170.92C180.207,-163.908 180.917,-154.144 181.548,-145.465\"/>\n",
       "<polygon fill=\"black\" stroke=\"black\" points=\"185.05,-145.568 182.284,-135.341 178.068,-145.061 185.05,-145.568\"/>\n",
       "</g>\n",
       "<!-- 140053613163776 -->\n",
       "<g id=\"node8\" class=\"node\"><title>140053613163776</title>\n",
       "<polygon fill=\"orange\" stroke=\"black\" points=\"278,-192 224,-192 224,-171 278,-171 278,-192\"/>\n",
       "<text text-anchor=\"middle\" x=\"251\" y=\"-178.4\" font-family=\"Times,serif\" font-size=\"12.00\">d</text>\n",
       "</g>\n",
       "<!-- 140053613163776&#45;&gt;140049697698424 -->\n",
       "<g id=\"edge7\" class=\"edge\"><title>140053613163776&#45;&gt;140049697698424</title>\n",
       "<path fill=\"none\" stroke=\"black\" d=\"M239.155,-170.92C229.235,-162.896 214.856,-151.266 203.133,-141.784\"/>\n",
       "<polygon fill=\"black\" stroke=\"black\" points=\"205.143,-138.908 195.167,-135.341 200.741,-144.351 205.143,-138.908\"/>\n",
       "</g>\n",
       "</g>\n",
       "</svg>\n"
      ],
      "text/plain": [
       "<graphviz.dot.Digraph at 0x7f5fdc845160>"
      ]
     },
     "execution_count": 15,
     "metadata": {},
     "output_type": "execute_result"
    }
   ],
   "source": [
    "make_stl_graph(Alw)"
   ]
  },
  {
   "cell_type": "code",
   "execution_count": null,
   "metadata": {},
   "outputs": [],
   "source": [
    "tf."
   ]
  },
  {
   "cell_type": "code",
   "execution_count": 8,
   "metadata": {},
   "outputs": [
    {
     "data": {
      "text/plain": [
       "<bound method Module.named_parameters of Always(\n",
       "  (subformula): And(\n",
       "    (subformula1): LessThan()\n",
       "    (subformula2): GreaterThan()\n",
       "    (operation): Minish()\n",
       "  )\n",
       "  (operation): Minish()\n",
       ")>"
      ]
     },
     "execution_count": 8,
     "metadata": {},
     "output_type": "execute_result"
    }
   ],
   "source": [
    "Alw.named_parameters"
   ]
  },
  {
   "cell_type": "code",
   "execution_count": 5,
   "metadata": {},
   "outputs": [],
   "source": [
    "lhs = LThan.robustness_trace(x, c)\n",
    "rhs = GThan.robustness_trace(w, d)\n",
    "an = An.robustness_trace(lhs, rhs, scale = 10)\n",
    "rt = Alw.robustness_trace(an, scale=0)"
   ]
  },
  {
   "cell_type": "code",
   "execution_count": null,
   "metadata": {},
   "outputs": [],
   "source": []
  },
  {
   "cell_type": "code",
   "execution_count": 11,
   "metadata": {},
   "outputs": [
    {
     "data": {
      "text/plain": [
       "'SqueezeBackward1'"
      ]
     },
     "execution_count": 11,
     "metadata": {},
     "output_type": "execute_result"
    }
   ],
   "source": [
    "str(type(var).__name__)"
   ]
  },
  {
   "cell_type": "code",
   "execution_count": 17,
   "metadata": {},
   "outputs": [
    {
     "data": {
      "text/plain": [
       "'None'"
      ]
     },
     "execution_count": 17,
     "metadata": {},
     "output_type": "execute_result"
    }
   ],
   "source": [
    "str(None)"
   ]
  },
  {
   "cell_type": "code",
   "execution_count": 10,
   "metadata": {},
   "outputs": [],
   "source": [
    "var = an.grad_fn\n",
    "output_nodes = (var,) if not isinstance(var, tuple) else tuple(v.grad_fn for v in var)"
   ]
  },
  {
   "cell_type": "code",
   "execution_count": 7,
   "metadata": {},
   "outputs": [
    {
     "data": {
      "image/svg+xml": [
       "<?xml version=\"1.0\" encoding=\"UTF-8\" standalone=\"no\"?>\n",
       "<!DOCTYPE svg PUBLIC \"-//W3C//DTD SVG 1.1//EN\"\n",
       " \"http://www.w3.org/Graphics/SVG/1.1/DTD/svg11.dtd\">\n",
       "<!-- Generated by graphviz version 2.38.0 (20140413.2041)\n",
       " -->\n",
       "<!-- Title: %3 Pages: 1 -->\n",
       "<svg width=\"206pt\" height=\"498pt\"\n",
       " viewBox=\"0.00 0.00 206.00 498.00\" xmlns=\"http://www.w3.org/2000/svg\" xmlns:xlink=\"http://www.w3.org/1999/xlink\">\n",
       "<g id=\"graph0\" class=\"graph\" transform=\"scale(1 1) rotate(0) translate(4 494)\">\n",
       "<title>%3</title>\n",
       "<polygon fill=\"white\" stroke=\"none\" points=\"-4,4 -4,-494 202,-494 202,4 -4,4\"/>\n",
       "<!-- 139929241850880 -->\n",
       "<g id=\"node1\" class=\"node\"><title>139929241850880</title>\n",
       "<polygon fill=\"#caff70\" stroke=\"black\" points=\"159.5,-21 48.5,-21 48.5,-0 159.5,-0 159.5,-21\"/>\n",
       "<text text-anchor=\"middle\" x=\"104\" y=\"-7.4\" font-family=\"Times,serif\" font-size=\"12.00\">SqueezeBackward1</text>\n",
       "</g>\n",
       "<!-- 139929241850992 -->\n",
       "<g id=\"node2\" class=\"node\"><title>139929241850992</title>\n",
       "<polygon fill=\"lightgrey\" stroke=\"black\" points=\"150.5,-78 57.5,-78 57.5,-57 150.5,-57 150.5,-78\"/>\n",
       "<text text-anchor=\"middle\" x=\"104\" y=\"-64.4\" font-family=\"Times,serif\" font-size=\"12.00\">SumBackward2</text>\n",
       "</g>\n",
       "<!-- 139929241850992&#45;&gt;139929241850880 -->\n",
       "<g id=\"edge1\" class=\"edge\"><title>139929241850992&#45;&gt;139929241850880</title>\n",
       "<path fill=\"none\" stroke=\"black\" d=\"M104,-56.9197C104,-49.9083 104,-40.1442 104,-31.4652\"/>\n",
       "<polygon fill=\"black\" stroke=\"black\" points=\"107.5,-31.3408 104,-21.3408 100.5,-31.3409 107.5,-31.3408\"/>\n",
       "</g>\n",
       "<!-- 139929241851104 -->\n",
       "<g id=\"node3\" class=\"node\"><title>139929241851104</title>\n",
       "<polygon fill=\"lightgrey\" stroke=\"black\" points=\"149.5,-135 58.5,-135 58.5,-114 149.5,-114 149.5,-135\"/>\n",
       "<text text-anchor=\"middle\" x=\"104\" y=\"-121.4\" font-family=\"Times,serif\" font-size=\"12.00\">MulBackward0</text>\n",
       "</g>\n",
       "<!-- 139929241851104&#45;&gt;139929241850992 -->\n",
       "<g id=\"edge2\" class=\"edge\"><title>139929241851104&#45;&gt;139929241850992</title>\n",
       "<path fill=\"none\" stroke=\"black\" d=\"M104,-113.92C104,-106.908 104,-97.1442 104,-88.4652\"/>\n",
       "<polygon fill=\"black\" stroke=\"black\" points=\"107.5,-88.3408 104,-78.3408 100.5,-88.3409 107.5,-88.3408\"/>\n",
       "</g>\n",
       "<!-- 139929241851216 -->\n",
       "<g id=\"node4\" class=\"node\"><title>139929241851216</title>\n",
       "<polygon fill=\"lightgrey\" stroke=\"black\" points=\"197.5,-192 92.5,-192 92.5,-171 197.5,-171 197.5,-192\"/>\n",
       "<text text-anchor=\"middle\" x=\"145\" y=\"-178.4\" font-family=\"Times,serif\" font-size=\"12.00\">SoftmaxBackward</text>\n",
       "</g>\n",
       "<!-- 139929241851216&#45;&gt;139929241851104 -->\n",
       "<g id=\"edge3\" class=\"edge\"><title>139929241851216&#45;&gt;139929241851104</title>\n",
       "<path fill=\"none\" stroke=\"black\" d=\"M137.858,-170.92C132.225,-163.363 124.208,-152.609 117.39,-143.462\"/>\n",
       "<polygon fill=\"black\" stroke=\"black\" points=\"120.119,-141.266 111.336,-135.341 114.506,-145.45 120.119,-141.266\"/>\n",
       "</g>\n",
       "<!-- 139929241852336 -->\n",
       "<g id=\"node5\" class=\"node\"><title>139929241852336</title>\n",
       "<polygon fill=\"lightgrey\" stroke=\"black\" points=\"186.5,-249 95.5,-249 95.5,-228 186.5,-228 186.5,-249\"/>\n",
       "<text text-anchor=\"middle\" x=\"141\" y=\"-235.4\" font-family=\"Times,serif\" font-size=\"12.00\">MulBackward0</text>\n",
       "</g>\n",
       "<!-- 139929241852336&#45;&gt;139929241851216 -->\n",
       "<g id=\"edge4\" class=\"edge\"><title>139929241852336&#45;&gt;139929241851216</title>\n",
       "<path fill=\"none\" stroke=\"black\" d=\"M141.697,-227.92C142.207,-220.908 142.917,-211.144 143.548,-202.465\"/>\n",
       "<polygon fill=\"black\" stroke=\"black\" points=\"147.05,-202.568 144.284,-192.341 140.068,-202.061 147.05,-202.568\"/>\n",
       "</g>\n",
       "<!-- 139929241852392 -->\n",
       "<g id=\"node6\" class=\"node\"><title>139929241852392</title>\n",
       "<polygon fill=\"lightgrey\" stroke=\"black\" points=\"179,-306 93,-306 93,-285 179,-285 179,-306\"/>\n",
       "<text text-anchor=\"middle\" x=\"136\" y=\"-292.4\" font-family=\"Times,serif\" font-size=\"12.00\">NegBackward</text>\n",
       "</g>\n",
       "<!-- 139929241852392&#45;&gt;139929241852336 -->\n",
       "<g id=\"edge5\" class=\"edge\"><title>139929241852392&#45;&gt;139929241852336</title>\n",
       "<path fill=\"none\" stroke=\"black\" d=\"M136.871,-284.92C137.508,-277.908 138.396,-268.144 139.185,-259.465\"/>\n",
       "<polygon fill=\"black\" stroke=\"black\" points=\"142.686,-259.617 140.105,-249.341 135.714,-258.983 142.686,-259.617\"/>\n",
       "</g>\n",
       "<!-- 139929241851272 -->\n",
       "<g id=\"node7\" class=\"node\"><title>139929241851272</title>\n",
       "<polygon fill=\"lightgrey\" stroke=\"black\" points=\"145,-363 53,-363 53,-342 145,-342 145,-363\"/>\n",
       "<text text-anchor=\"middle\" x=\"99\" y=\"-349.4\" font-family=\"Times,serif\" font-size=\"12.00\">StackBackward</text>\n",
       "</g>\n",
       "<!-- 139929241851272&#45;&gt;139929241851104 -->\n",
       "<g id=\"edge11\" class=\"edge\"><title>139929241851272&#45;&gt;139929241851104</title>\n",
       "<path fill=\"none\" stroke=\"black\" d=\"M94.8891,-341.956C91.2212,-332.897 86.1134,-318.802 84,-306 74.2268,-246.8 70.1282,-229.605 83,-171 85.0434,-161.697 89.18,-152.029 93.2456,-144.01\"/>\n",
       "<polygon fill=\"black\" stroke=\"black\" points=\"96.3419,-145.642 98.0241,-135.181 90.1859,-142.31 96.3419,-145.642\"/>\n",
       "</g>\n",
       "<!-- 139929241851272&#45;&gt;139929241852392 -->\n",
       "<g id=\"edge6\" class=\"edge\"><title>139929241851272&#45;&gt;139929241852392</title>\n",
       "<path fill=\"none\" stroke=\"black\" d=\"M105.445,-341.92C110.476,-334.441 117.614,-323.83 123.726,-314.745\"/>\n",
       "<polygon fill=\"black\" stroke=\"black\" points=\"126.702,-316.592 129.38,-306.341 120.894,-312.684 126.702,-316.592\"/>\n",
       "</g>\n",
       "<!-- 139929241852504 -->\n",
       "<g id=\"node8\" class=\"node\"><title>139929241852504</title>\n",
       "<polygon fill=\"lightgrey\" stroke=\"black\" points=\"90,-420 0,-420 0,-399 90,-399 90,-420\"/>\n",
       "<text text-anchor=\"middle\" x=\"45\" y=\"-406.4\" font-family=\"Times,serif\" font-size=\"12.00\">SubBackward0</text>\n",
       "</g>\n",
       "<!-- 139929241852504&#45;&gt;139929241851272 -->\n",
       "<g id=\"edge7\" class=\"edge\"><title>139929241852504&#45;&gt;139929241851272</title>\n",
       "<path fill=\"none\" stroke=\"black\" d=\"M54.4061,-398.92C62.0549,-391.129 73.0403,-379.94 82.1936,-370.618\"/>\n",
       "<polygon fill=\"black\" stroke=\"black\" points=\"84.8296,-372.929 89.3381,-363.341 79.8347,-368.024 84.8296,-372.929\"/>\n",
       "</g>\n",
       "<!-- 139929241852672 -->\n",
       "<g id=\"node9\" class=\"node\"><title>139929241852672</title>\n",
       "<polygon fill=\"lightblue\" stroke=\"black\" points=\"72,-490 18,-490 18,-456 72,-456 72,-490\"/>\n",
       "<text text-anchor=\"middle\" x=\"45\" y=\"-476.4\" font-family=\"Times,serif\" font-size=\"12.00\">c</text>\n",
       "<text text-anchor=\"middle\" x=\"45\" y=\"-463.4\" font-family=\"Times,serif\" font-size=\"12.00\"> ()</text>\n",
       "</g>\n",
       "<!-- 139929241852672&#45;&gt;139929241852504 -->\n",
       "<g id=\"edge8\" class=\"edge\"><title>139929241852672&#45;&gt;139929241852504</title>\n",
       "<path fill=\"none\" stroke=\"black\" d=\"M45,-455.842C45,-448.012 45,-438.54 45,-430.282\"/>\n",
       "<polygon fill=\"black\" stroke=\"black\" points=\"48.5001,-430.042 45,-420.042 41.5001,-430.042 48.5001,-430.042\"/>\n",
       "</g>\n",
       "<!-- 139929241852560 -->\n",
       "<g id=\"node10\" class=\"node\"><title>139929241852560</title>\n",
       "<polygon fill=\"lightgrey\" stroke=\"black\" points=\"198,-420 108,-420 108,-399 198,-399 198,-420\"/>\n",
       "<text text-anchor=\"middle\" x=\"153\" y=\"-406.4\" font-family=\"Times,serif\" font-size=\"12.00\">SubBackward0</text>\n",
       "</g>\n",
       "<!-- 139929241852560&#45;&gt;139929241851272 -->\n",
       "<g id=\"edge9\" class=\"edge\"><title>139929241852560&#45;&gt;139929241851272</title>\n",
       "<path fill=\"none\" stroke=\"black\" d=\"M143.594,-398.92C135.945,-391.129 124.96,-379.94 115.806,-370.618\"/>\n",
       "<polygon fill=\"black\" stroke=\"black\" points=\"118.165,-368.024 108.662,-363.341 113.17,-372.929 118.165,-368.024\"/>\n",
       "</g>\n",
       "<!-- 139929241852728 -->\n",
       "<g id=\"node11\" class=\"node\"><title>139929241852728</title>\n",
       "<polygon fill=\"lightblue\" stroke=\"black\" points=\"180,-490 126,-490 126,-456 180,-456 180,-490\"/>\n",
       "<text text-anchor=\"middle\" x=\"153\" y=\"-476.4\" font-family=\"Times,serif\" font-size=\"12.00\">d</text>\n",
       "<text text-anchor=\"middle\" x=\"153\" y=\"-463.4\" font-family=\"Times,serif\" font-size=\"12.00\"> ()</text>\n",
       "</g>\n",
       "<!-- 139929241852728&#45;&gt;139929241852560 -->\n",
       "<g id=\"edge10\" class=\"edge\"><title>139929241852728&#45;&gt;139929241852560</title>\n",
       "<path fill=\"none\" stroke=\"black\" d=\"M153,-455.842C153,-448.012 153,-438.54 153,-430.282\"/>\n",
       "<polygon fill=\"black\" stroke=\"black\" points=\"156.5,-430.042 153,-420.042 149.5,-430.042 156.5,-430.042\"/>\n",
       "</g>\n",
       "</g>\n",
       "</svg>\n"
      ],
      "text/plain": [
       "<graphviz.dot.Digraph at 0x7f43d0c11d68>"
      ]
     },
     "execution_count": 7,
     "metadata": {},
     "output_type": "execute_result"
    }
   ],
   "source": [
    "input_params = {'x': x, 'w': w, 'c': c, 'd': d}\n",
    "make_dot(an, params = {**input_params, **dict(An.named_parameters())})"
   ]
  },
  {
   "cell_type": "code",
   "execution_count": 16,
   "metadata": {
    "scrolled": true
   },
   "outputs": [
    {
     "data": {
      "image/svg+xml": [
       "<?xml version=\"1.0\" encoding=\"UTF-8\" standalone=\"no\"?>\n",
       "<!DOCTYPE svg PUBLIC \"-//W3C//DTD SVG 1.1//EN\"\n",
       " \"http://www.w3.org/Graphics/SVG/1.1/DTD/svg11.dtd\">\n",
       "<!-- Generated by graphviz version 2.38.0 (20140413.2041)\n",
       " -->\n",
       "<!-- Title: %3 Pages: 1 -->\n",
       "<svg width=\"206pt\" height=\"498pt\"\n",
       " viewBox=\"0.00 0.00 206.00 498.00\" xmlns=\"http://www.w3.org/2000/svg\" xmlns:xlink=\"http://www.w3.org/1999/xlink\">\n",
       "<g id=\"graph0\" class=\"graph\" transform=\"scale(1 1) rotate(0) translate(4 494)\">\n",
       "<title>%3</title>\n",
       "<polygon fill=\"white\" stroke=\"none\" points=\"-4,4 -4,-494 202,-494 202,4 -4,4\"/>\n",
       "<!-- 140692381326192 -->\n",
       "<g id=\"node1\" class=\"node\"><title>140692381326192</title>\n",
       "<polygon fill=\"#caff70\" stroke=\"black\" points=\"159.5,-21 48.5,-21 48.5,-0 159.5,-0 159.5,-21\"/>\n",
       "<text text-anchor=\"middle\" x=\"104\" y=\"-7.4\" font-family=\"Times,serif\" font-size=\"12.00\">SqueezeBackward1</text>\n",
       "</g>\n",
       "<!-- 140692381326304 -->\n",
       "<g id=\"node2\" class=\"node\"><title>140692381326304</title>\n",
       "<polygon fill=\"lightgrey\" stroke=\"black\" points=\"150.5,-78 57.5,-78 57.5,-57 150.5,-57 150.5,-78\"/>\n",
       "<text text-anchor=\"middle\" x=\"104\" y=\"-64.4\" font-family=\"Times,serif\" font-size=\"12.00\">SumBackward2</text>\n",
       "</g>\n",
       "<!-- 140692381326304&#45;&gt;140692381326192 -->\n",
       "<g id=\"edge1\" class=\"edge\"><title>140692381326304&#45;&gt;140692381326192</title>\n",
       "<path fill=\"none\" stroke=\"black\" d=\"M104,-56.9197C104,-49.9083 104,-40.1442 104,-31.4652\"/>\n",
       "<polygon fill=\"black\" stroke=\"black\" points=\"107.5,-31.3408 104,-21.3408 100.5,-31.3409 107.5,-31.3408\"/>\n",
       "</g>\n",
       "<!-- 140692381326416 -->\n",
       "<g id=\"node3\" class=\"node\"><title>140692381326416</title>\n",
       "<polygon fill=\"lightgrey\" stroke=\"black\" points=\"149.5,-135 58.5,-135 58.5,-114 149.5,-114 149.5,-135\"/>\n",
       "<text text-anchor=\"middle\" x=\"104\" y=\"-121.4\" font-family=\"Times,serif\" font-size=\"12.00\">MulBackward0</text>\n",
       "</g>\n",
       "<!-- 140692381326416&#45;&gt;140692381326304 -->\n",
       "<g id=\"edge2\" class=\"edge\"><title>140692381326416&#45;&gt;140692381326304</title>\n",
       "<path fill=\"none\" stroke=\"black\" d=\"M104,-113.92C104,-106.908 104,-97.1442 104,-88.4652\"/>\n",
       "<polygon fill=\"black\" stroke=\"black\" points=\"107.5,-88.3408 104,-78.3408 100.5,-88.3409 107.5,-88.3408\"/>\n",
       "</g>\n",
       "<!-- 140692381326528 -->\n",
       "<g id=\"node4\" class=\"node\"><title>140692381326528</title>\n",
       "<polygon fill=\"lightgrey\" stroke=\"black\" points=\"197.5,-192 92.5,-192 92.5,-171 197.5,-171 197.5,-192\"/>\n",
       "<text text-anchor=\"middle\" x=\"145\" y=\"-178.4\" font-family=\"Times,serif\" font-size=\"12.00\">SoftmaxBackward</text>\n",
       "</g>\n",
       "<!-- 140692381326528&#45;&gt;140692381326416 -->\n",
       "<g id=\"edge3\" class=\"edge\"><title>140692381326528&#45;&gt;140692381326416</title>\n",
       "<path fill=\"none\" stroke=\"black\" d=\"M137.858,-170.92C132.225,-163.363 124.208,-152.609 117.39,-143.462\"/>\n",
       "<polygon fill=\"black\" stroke=\"black\" points=\"120.119,-141.266 111.336,-135.341 114.506,-145.45 120.119,-141.266\"/>\n",
       "</g>\n",
       "<!-- 140692381326696 -->\n",
       "<g id=\"node5\" class=\"node\"><title>140692381326696</title>\n",
       "<polygon fill=\"lightgrey\" stroke=\"black\" points=\"186.5,-249 95.5,-249 95.5,-228 186.5,-228 186.5,-249\"/>\n",
       "<text text-anchor=\"middle\" x=\"141\" y=\"-235.4\" font-family=\"Times,serif\" font-size=\"12.00\">MulBackward0</text>\n",
       "</g>\n",
       "<!-- 140692381326696&#45;&gt;140692381326528 -->\n",
       "<g id=\"edge4\" class=\"edge\"><title>140692381326696&#45;&gt;140692381326528</title>\n",
       "<path fill=\"none\" stroke=\"black\" d=\"M141.697,-227.92C142.207,-220.908 142.917,-211.144 143.548,-202.465\"/>\n",
       "<polygon fill=\"black\" stroke=\"black\" points=\"147.05,-202.568 144.284,-192.341 140.068,-202.061 147.05,-202.568\"/>\n",
       "</g>\n",
       "<!-- 140692381326808 -->\n",
       "<g id=\"node6\" class=\"node\"><title>140692381326808</title>\n",
       "<polygon fill=\"lightgrey\" stroke=\"black\" points=\"179,-306 93,-306 93,-285 179,-285 179,-306\"/>\n",
       "<text text-anchor=\"middle\" x=\"136\" y=\"-292.4\" font-family=\"Times,serif\" font-size=\"12.00\">NegBackward</text>\n",
       "</g>\n",
       "<!-- 140692381326808&#45;&gt;140692381326696 -->\n",
       "<g id=\"edge5\" class=\"edge\"><title>140692381326808&#45;&gt;140692381326696</title>\n",
       "<path fill=\"none\" stroke=\"black\" d=\"M136.871,-284.92C137.508,-277.908 138.396,-268.144 139.185,-259.465\"/>\n",
       "<polygon fill=\"black\" stroke=\"black\" points=\"142.686,-259.617 140.105,-249.341 135.714,-258.983 142.686,-259.617\"/>\n",
       "</g>\n",
       "<!-- 140692381326584 -->\n",
       "<g id=\"node7\" class=\"node\"><title>140692381326584</title>\n",
       "<polygon fill=\"lightgrey\" stroke=\"black\" points=\"145,-363 53,-363 53,-342 145,-342 145,-363\"/>\n",
       "<text text-anchor=\"middle\" x=\"99\" y=\"-349.4\" font-family=\"Times,serif\" font-size=\"12.00\">StackBackward</text>\n",
       "</g>\n",
       "<!-- 140692381326584&#45;&gt;140692381326416 -->\n",
       "<g id=\"edge11\" class=\"edge\"><title>140692381326584&#45;&gt;140692381326416</title>\n",
       "<path fill=\"none\" stroke=\"black\" d=\"M94.8891,-341.956C91.2212,-332.897 86.1134,-318.802 84,-306 74.2268,-246.8 70.1282,-229.605 83,-171 85.0434,-161.697 89.18,-152.029 93.2456,-144.01\"/>\n",
       "<polygon fill=\"black\" stroke=\"black\" points=\"96.3419,-145.642 98.0241,-135.181 90.1859,-142.31 96.3419,-145.642\"/>\n",
       "</g>\n",
       "<!-- 140692381326584&#45;&gt;140692381326808 -->\n",
       "<g id=\"edge6\" class=\"edge\"><title>140692381326584&#45;&gt;140692381326808</title>\n",
       "<path fill=\"none\" stroke=\"black\" d=\"M105.445,-341.92C110.476,-334.441 117.614,-323.83 123.726,-314.745\"/>\n",
       "<polygon fill=\"black\" stroke=\"black\" points=\"126.702,-316.592 129.38,-306.341 120.894,-312.684 126.702,-316.592\"/>\n",
       "</g>\n",
       "<!-- 140692381326976 -->\n",
       "<g id=\"node8\" class=\"node\"><title>140692381326976</title>\n",
       "<polygon fill=\"lightgrey\" stroke=\"black\" points=\"90,-420 0,-420 0,-399 90,-399 90,-420\"/>\n",
       "<text text-anchor=\"middle\" x=\"45\" y=\"-406.4\" font-family=\"Times,serif\" font-size=\"12.00\">SubBackward0</text>\n",
       "</g>\n",
       "<!-- 140692381326976&#45;&gt;140692381326584 -->\n",
       "<g id=\"edge7\" class=\"edge\"><title>140692381326976&#45;&gt;140692381326584</title>\n",
       "<path fill=\"none\" stroke=\"black\" d=\"M54.4061,-398.92C62.0549,-391.129 73.0403,-379.94 82.1936,-370.618\"/>\n",
       "<polygon fill=\"black\" stroke=\"black\" points=\"84.8296,-372.929 89.3381,-363.341 79.8347,-368.024 84.8296,-372.929\"/>\n",
       "</g>\n",
       "<!-- 140692381327144 -->\n",
       "<g id=\"node9\" class=\"node\"><title>140692381327144</title>\n",
       "<polygon fill=\"lightblue\" stroke=\"black\" points=\"72,-490 18,-490 18,-456 72,-456 72,-490\"/>\n",
       "<text text-anchor=\"middle\" x=\"45\" y=\"-476.4\" font-family=\"Times,serif\" font-size=\"12.00\">c</text>\n",
       "<text text-anchor=\"middle\" x=\"45\" y=\"-463.4\" font-family=\"Times,serif\" font-size=\"12.00\"> ()</text>\n",
       "</g>\n",
       "<!-- 140692381327144&#45;&gt;140692381326976 -->\n",
       "<g id=\"edge8\" class=\"edge\"><title>140692381327144&#45;&gt;140692381326976</title>\n",
       "<path fill=\"none\" stroke=\"black\" d=\"M45,-455.842C45,-448.012 45,-438.54 45,-430.282\"/>\n",
       "<polygon fill=\"black\" stroke=\"black\" points=\"48.5001,-430.042 45,-420.042 41.5001,-430.042 48.5001,-430.042\"/>\n",
       "</g>\n",
       "<!-- 140692381327032 -->\n",
       "<g id=\"node10\" class=\"node\"><title>140692381327032</title>\n",
       "<polygon fill=\"lightgrey\" stroke=\"black\" points=\"198,-420 108,-420 108,-399 198,-399 198,-420\"/>\n",
       "<text text-anchor=\"middle\" x=\"153\" y=\"-406.4\" font-family=\"Times,serif\" font-size=\"12.00\">SubBackward0</text>\n",
       "</g>\n",
       "<!-- 140692381327032&#45;&gt;140692381326584 -->\n",
       "<g id=\"edge9\" class=\"edge\"><title>140692381327032&#45;&gt;140692381326584</title>\n",
       "<path fill=\"none\" stroke=\"black\" d=\"M143.594,-398.92C135.945,-391.129 124.96,-379.94 115.806,-370.618\"/>\n",
       "<polygon fill=\"black\" stroke=\"black\" points=\"118.165,-368.024 108.662,-363.341 113.17,-372.929 118.165,-368.024\"/>\n",
       "</g>\n",
       "<!-- 140692381327200 -->\n",
       "<g id=\"node11\" class=\"node\"><title>140692381327200</title>\n",
       "<polygon fill=\"lightblue\" stroke=\"black\" points=\"180,-490 126,-490 126,-456 180,-456 180,-490\"/>\n",
       "<text text-anchor=\"middle\" x=\"153\" y=\"-476.4\" font-family=\"Times,serif\" font-size=\"12.00\">d</text>\n",
       "<text text-anchor=\"middle\" x=\"153\" y=\"-463.4\" font-family=\"Times,serif\" font-size=\"12.00\"> ()</text>\n",
       "</g>\n",
       "<!-- 140692381327200&#45;&gt;140692381327032 -->\n",
       "<g id=\"edge10\" class=\"edge\"><title>140692381327200&#45;&gt;140692381327032</title>\n",
       "<path fill=\"none\" stroke=\"black\" d=\"M153,-455.842C153,-448.012 153,-438.54 153,-430.282\"/>\n",
       "<polygon fill=\"black\" stroke=\"black\" points=\"156.5,-430.042 153,-420.042 149.5,-430.042 156.5,-430.042\"/>\n",
       "</g>\n",
       "</g>\n",
       "</svg>\n"
      ],
      "text/plain": [
       "<graphviz.dot.Digraph at 0x7ff57f5e11d0>"
      ]
     },
     "execution_count": 16,
     "metadata": {},
     "output_type": "execute_result"
    }
   ],
   "source": [
    "input_params = {'x': x, 'w': w, 'c': c, 'd': d}\n",
    "make_dot(an, params = {**input_params, **dict(An.named_parameters())})"
   ]
  },
  {
   "cell_type": "code",
   "execution_count": 18,
   "metadata": {},
   "outputs": [
    {
     "name": "stdout",
     "output_type": "stream",
     "text": [
      "◻ [4, 8]( x <= c )\n"
     ]
    }
   ],
   "source": [
    "Alw = Always(subformula=LThan, interval=[4, 8])\n",
    "print(Alw)"
   ]
  },
  {
   "cell_type": "code",
   "execution_count": 19,
   "metadata": {},
   "outputs": [
    {
     "name": "stdout",
     "output_type": "stream",
     "text": [
      "¬(◻ [4, 8]( x <= c ))\n"
     ]
    }
   ],
   "source": [
    "print(Negation(subformula=Alw))"
   ]
  },
  {
   "cell_type": "code",
   "execution_count": 22,
   "metadata": {},
   "outputs": [
    {
     "name": "stdout",
     "output_type": "stream",
     "text": [
      "(x >= c) ∧ (x <= c)\n"
     ]
    }
   ],
   "source": [
    "print(And(subformula1=GThan, subformula2=LThan))"
   ]
  },
  {
   "cell_type": "code",
   "execution_count": null,
   "metadata": {},
   "outputs": [],
   "source": []
  }
 ],
 "metadata": {
  "kernelspec": {
   "display_name": "Python 3",
   "language": "python",
   "name": "python3"
  },
  "language_info": {
   "codemirror_mode": {
    "name": "ipython",
    "version": 3
   },
   "file_extension": ".py",
   "mimetype": "text/x-python",
   "name": "python",
   "nbconvert_exporter": "python",
   "pygments_lexer": "ipython3",
   "version": "3.5.2"
  }
 },
 "nbformat": 4,
 "nbformat_minor": 2
}
