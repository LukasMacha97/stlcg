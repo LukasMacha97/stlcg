{
 "cells": [
  {
   "cell_type": "code",
   "execution_count": 1,
   "metadata": {},
   "outputs": [],
   "source": [
    "%matplotlib inline\n",
    "import sys\n",
    "sys.path.append('../../src')\n",
    "\n",
    "from scripts.utils import maybe_makedirs\n",
    "import matplotlib.pyplot as plt\n",
    "\n",
    "from ipywidgets import interact, interactive, fixed, interact_manual\n",
    "import ipywidgets as widgets\n",
    "from torch.utils.data import Dataset, DataLoader\n",
    "\n",
    "import numpy as np\n",
    "import os\n",
    "import pickle\n",
    "import torch\n",
    "import pickle\n",
    "import stlcg"
   ]
  },
  {
   "cell_type": "code",
   "execution_count": 2,
   "metadata": {},
   "outputs": [],
   "source": [
    "import matplotlib \n",
    "matplotlib.rc('xtick', labelsize=20) \n",
    "matplotlib.rc('ytick', labelsize=20) "
   ]
  },
  {
   "cell_type": "code",
   "execution_count": 3,
   "metadata": {},
   "outputs": [],
   "source": [
    "#### Settings ####\n",
    "save_fig = True\n",
    "fig_dir = \"figs/motion_planning\"\n",
    "data_dir = \"data/motion_planning\""
   ]
  },
  {
   "cell_type": "markdown",
   "metadata": {},
   "source": [
    "# Single integrator dynamics\n"
   ]
  },
  {
   "cell_type": "code",
   "execution_count": 4,
   "metadata": {},
   "outputs": [],
   "source": [
    "obs_1 = torch.tensor([0.0, 0.9, -1.0, -0.5]).float()     # red box in bottom right corner\n",
    "obs_2 = torch.tensor([.2, 0.7, 0.8, 1.2]).float()        # green box in top right corner\n",
    "obs_3 = torch.tensor([0.0, 0.0, 0.4]).float()            # blue circle in the center\n",
    "obs_4 = torch.tensor([-1.0, -0.7, -0.2, 0.5]).float()    # orange box on the left"
   ]
  },
  {
   "cell_type": "markdown",
   "metadata": {},
   "source": [
    "### Plot configuration"
   ]
  },
  {
   "cell_type": "code",
   "execution_count": 5,
   "metadata": {},
   "outputs": [
    {
     "data": {
      "image/png": "[encoded data removed]",
      "text/plain": [
       "<Figure size 720x720 with 1 Axes>"
      ]
     },
     "metadata": {
      "needs_background": "light"
     },
     "output_type": "display_data"
    }
   ],
   "source": [
    "plt.figure(figsize=(10,10))\n",
    "plt.plot([obs_1[0], obs_1[0], obs_1[1], obs_1[1], obs_1[0]], [obs_1[2], obs_1[3], obs_1[3], obs_1[2], obs_1[2]], c=\"red\", linewidth=5)\n",
    "plt.plot([obs_2[0], obs_2[0], obs_2[1], obs_2[1], obs_2[0]], [obs_2[2], obs_2[3], obs_2[3], obs_2[2], obs_2[2]], c=\"green\", linewidth=5)\n",
    "plt.plot([obs_4[0], obs_4[0], obs_4[1], obs_4[1], obs_4[0]], [obs_4[2], obs_4[3], obs_4[3], obs_4[2], obs_4[2]], c=\"orange\", linewidth=5)\n",
    "plt.plot([obs_3[0] + obs_3[2].numpy()*np.cos(t) for t in np.arange(0,3*np.pi,0.1)], [obs_3[1] + obs_3[2].numpy()*np.sin(t) for t in np.arange(0,3*np.pi,0.1)], c=\"blue\", linewidth=5)\n",
    "\n",
    "plt.scatter([-1], [-1], s=300, c=\"orange\")\n",
    "plt.scatter([1], [1], s=800, marker='*', c=\"orange\")\n",
    "plt.axis(\"equal\")\n",
    "plt.grid()\n",
    "\n",
    "if save_fig:\n",
    "    plt.savefig(fig_dir + \"/configuration.png\")"
   ]
  },
  {
   "cell_type": "markdown",
   "metadata": {},
   "source": [
    "### functions that construct STL formulas"
   ]
  },
  {
   "cell_type": "code",
   "execution_count": 6,
   "metadata": {},
   "outputs": [],
   "source": [
    "def inside_box(xy, obs):\n",
    "    x = stlcg.Expression('x', xy[:,:1].unsqueeze(0))\n",
    "    y = stlcg.Expression('y', xy[:,1:].unsqueeze(0))\n",
    "    r1 = stlcg.Expression(obs[:1].unsqueeze(-1).unsqueeze(-1))\n",
    "    r2 = stlcg.Expression(obs[1:2].unsqueeze(-1).unsqueeze(-1))\n",
    "    r3 = stlcg.Expression(obs[2:3].unsqueeze(-1).unsqueeze(-1))\n",
    "    r4 = stlcg.Expression(obs[3:4].unsqueeze(-1).unsqueeze(-1))\n",
    "    inputs = ((x,x), (y,y))\n",
    "    return ((x > r1) & (x < r2)) & ((y > r3) & (y < r4)), inputs\n",
    "#     ϕ1 = stlcg.Eventually(subformula=stlcg.Always(subformula=inside_box, interval=[0,3]), interval=[0, 12])\n",
    "\n",
    "def always_stay_outside_circle(xy, obs):\n",
    "    d1 = stlcg.Expression('d1', torch.norm(xy - obs[:2].unsqueeze(0), dim=-1, keepdim=True).unsqueeze(0))\n",
    "    r1 = stlcg.Expression(obs[2:3].unsqueeze(-1).unsqueeze(-1))\n",
    "    return stlcg.Always(subformula=(d1 > r1)), d1\n",
    "\n",
    "def control_limit(u, u_max):\n",
    "    u_abs = stlcg.Expression('u', u.norm(dim=1, keepdim=True).unsqueeze(0))\n",
    "    um = stlcg.Expression(u_max.unsqueeze(-1).unsqueeze(-1))\n",
    "    return stlcg.Always(subformula=(u_abs < um)), u_abs"
   ]
  },
  {
   "cell_type": "markdown",
   "metadata": {},
   "source": [
    "### initializing solution $z$ as a straight line"
   ]
  },
  {
   "cell_type": "code",
   "execution_count": 7,
   "metadata": {},
   "outputs": [],
   "source": [
    "dx = 0.04\n",
    "n = np.stack([np.arange(-1, 1, dx), np.arange(-1, 1, dx)]).T\n",
    "x0 = -np.ones(2)\n",
    "xf = np.ones(2)\n",
    "N = n.shape\n",
    "\n",
    "u_max = torch.as_tensor(0.8).float()       # u max"
   ]
  },
  {
   "cell_type": "markdown",
   "metadata": {},
   "source": [
    "### Setting up linear dynamics matrices\n",
    "\n",
    "$x_{t+1} = Ax_t + Bu_t$, wher $A = I$, and $B = \\Delta t\\cdot I$. \n",
    "\n",
    "$Z = (x,u)$ (i.e., concatenating $x$ and $u$\n",
    "\n",
    "$E$ represents a massive matrix that computes $Ax_t+ Bu_t - x_{t+1}$ and $d$ represents what it should equal to.\n",
    "\n",
    "The last 4 rows of $E$ and last 4 elements of $d$ correspond to the end point constraints."
   ]
  },
  {
   "cell_type": "markdown",
   "metadata": {},
   "source": [
    "Slightly convoluted way to get a initial straight line guess. but oh well"
   ]
  },
  {
   "cell_type": "code",
   "execution_count": 8,
   "metadata": {},
   "outputs": [],
   "source": [
    "Δt = 0.1\n",
    "A = np.eye(2)\n",
    "B = np.eye(2) * Δt\n",
    "E = np.zeros([2*(N[0]+1), (2*N[0] - 1)*N[1]])\n",
    "d = np.zeros((2*(N[0]+1)))\n",
    "\n",
    "for i in range(N[0]-1):\n",
    "    E[2*i:2*i+2,2*i:2*i+2] = A\n",
    "    E[2*i:2*i+2,2*(i+1):2*(i+1)+2] = -A\n",
    "    j = 2*i + N[0]*N[1]\n",
    "    E[2*i:2*i+2,j:j+2] = B\n",
    "E[2*(N[0]-1):2*(N[0]-1)+2, :2] = A\n",
    "E[2*N[0]:2*N[0]+2, 2*(N[0]-1):2*(N[0]-1)+2] = A\n",
    "\n",
    "d[-4:-2] = x0\n",
    "d[-2:] = xf\n",
    "\n",
    "Q = np.zeros([(2*N[0] - 1)*N[1], (2*N[0] - 1)*N[1]])           # no state cost\n",
    "R = np.eye((N[0]-1) * N[1])                                    # control cost\n",
    "Q[N[1]*N[0]:, N[1]*N[0]:] = R\n",
    "c = np.zeros([(2*N[0] - 1)*N[1]])\n",
    "\n",
    "# building up the KKT matrix\n",
    "K = np.zeros([Q.shape[0]+E.shape[0], Q.shape[1] + E.shape[0]])\n",
    "K[:Q.shape[0], :] = np.concatenate([Q, E.T], axis=1)\n",
    "K[Q.shape[0]:, :E.shape[1]] = E\n",
    "D = np.concatenate([-c, d])\n",
    "\n",
    "KK = torch.as_tensor(K).float()\n",
    "DD = torch.as_tensor(D).float()\n",
    "\n",
    "# matrix describing the dynamics and state constraints\n",
    "CC = torch.as_tensor(d).float()\n",
    "EE = torch.as_tensor(E).float()\n",
    "\n",
    "# solving the KKT matrix (i.e., straight line) and getting only the states (not the lagrange multipliers)\n",
    "Z = torch.as_tensor((np.linalg.inv(K) @ D)[:(2*N[0] - 1) * N[1]]).float().requires_grad_(True)\n"
   ]
  },
  {
   "cell_type": "markdown",
   "metadata": {},
   "source": [
    "### Constructing  $\\phi_1 = \\lozenge\\,\\square_{[0,5]} \\text{inside red box} \\: \\wedge \\: \\lozenge \\, \\square_{[0, 5]} \\text{inside green box} \\: \\wedge \\: \\neg \\square \\, \\text{inside blue circle}$ \n"
   ]
  },
  {
   "cell_type": "code",
   "execution_count": 9,
   "metadata": {},
   "outputs": [],
   "source": [
    "Z = torch.as_tensor((np.linalg.inv(K) @ D)[:(2*N[0] - 1) * N[1]]).float().requires_grad_(True)"
   ]
  },
  {
   "cell_type": "code",
   "execution_count": 10,
   "metadata": {},
   "outputs": [],
   "source": [
    "X = Z[:N[0]*N[1]].reshape(N[0], N[1])\n",
    "x = X[:,:1].unsqueeze(0)\n",
    "y = X[:,1:].unsqueeze(0)\n",
    "\n",
    "U = Z[N[0]*N[1]:(N[0]*N[1] + (N[0]-1)*N[1])].reshape(N[0]-1,N[1])\n",
    "ux = U[:,:1]\n",
    "uy = U[:,1:]\n",
    "\n",
    "T = 5\n",
    "inside_box_1, _ = inside_box(X, obs_1)\n",
    "inside_box_2, _ = inside_box(X, obs_2)\n",
    "has_been_inside_box_1 = stlcg.Eventually(subformula=stlcg.Always(subformula=inside_box_1, interval=[0,T]))\n",
    "has_been_inside_box_2 = stlcg.Eventually(subformula=stlcg.Always(subformula=inside_box_2, interval=[0,T]))\n",
    "always_stay_outside_circle_formula, _ = always_stay_outside_circle(X, obs_3)\n",
    "\n",
    "ϕ1 = (has_been_inside_box_1 & has_been_inside_box_2) & always_stay_outside_circle_formula\n",
    "θ, _ = control_limit(U, u_max)\n",
    "\n",
    "box_inputs = ((x, x),(y, y))\n",
    "circle_inputs = torch.norm(X - obs_3[:2].unsqueeze(0), dim=-1, keepdim=True).unsqueeze(0)\n",
    "control_inputs = U.norm(dim=1, keepdim=True).unsqueeze(0)\n",
    "\n",
    "robustness_1 = torch.relu(-ϕ1.robustness(((box_inputs, box_inputs), circle_inputs), scale=-1).squeeze())\n",
    "robustness_2 = torch.relu(-θ.robustness(control_inputs, scale=-1).squeeze())"
   ]
  },
  {
   "cell_type": "code",
   "execution_count": 57,
   "metadata": {
    "scrolled": false
   },
   "outputs": [
    {
     "name": "stdout",
     "output_type": "stream",
     "text": [
      "0: loss: 0.126   robustness_1: 0.421     robustness_2: 0.000     cont: 0.000000\n",
      "100: loss: 0.113   robustness_1: 0.361     robustness_2: 0.000     cont: 0.004337\n",
      "200: loss: 0.097   robustness_1: 0.297     robustness_2: 0.000     cont: 0.007695\n",
      "300: loss: 0.082   robustness_1: 0.245     robustness_2: 0.000     cont: 0.009010\n",
      "400: loss: 0.071   robustness_1: 0.203     robustness_2: 0.000     cont: 0.010280\n",
      "500: loss: 0.064   robustness_1: 0.179     robustness_2: 0.000     cont: 0.010791\n",
      "600: loss: 0.059   robustness_1: 0.160     robustness_2: 0.000     cont: 0.010784\n",
      "700: loss: 0.054   robustness_1: 0.140     robustness_2: 0.000     cont: 0.011482\n",
      "800: loss: 0.049   robustness_1: 0.123     robustness_2: 0.000     cont: 0.011878\n",
      "900: loss: 0.045   robustness_1: 0.109     robustness_2: 0.000     cont: 0.012471\n",
      "1000: loss: 0.041   robustness_1: 0.094     robustness_2: 0.000     cont: 0.012655\n",
      "1100: loss: 0.036   robustness_1: 0.079     robustness_2: 0.000     cont: 0.012795\n",
      "1200: loss: 0.033   robustness_1: 0.065     robustness_2: 0.000     cont: 0.013477\n",
      "1300: loss: 0.029   robustness_1: 0.051     robustness_2: 0.000     cont: 0.013362\n",
      "1400: loss: 0.026   robustness_1: 0.040     robustness_2: 0.000     cont: 0.013663\n",
      "1500: loss: 0.022   robustness_1: 0.027     robustness_2: 0.000     cont: 0.013882\n",
      "1600: loss: 0.018   robustness_1: 0.016     robustness_2: 0.000     cont: 0.013697\n",
      "1700: loss: 0.015   robustness_1: 0.003     robustness_2: 0.000     cont: 0.014066\n",
      "1800: loss: 0.012   robustness_1: 0.000     robustness_2: 0.000     cont: 0.011543\n",
      "1900: loss: 0.009   robustness_1: 0.001     robustness_2: 0.000     cont: 0.008641\n",
      "2000: loss: 0.008   robustness_1: 0.000     robustness_2: 0.000     cont: 0.007787\n",
      "2100: loss: 0.006   robustness_1: 0.000     robustness_2: 0.000     cont: 0.006444\n",
      "2200: loss: 0.005   robustness_1: 0.000     robustness_2: 0.000     cont: 0.004902\n",
      "2300: loss: 0.005   robustness_1: 0.001     robustness_2: 0.000     cont: 0.004898\n",
      "2400: loss: 0.003   robustness_1: 0.000     robustness_2: 0.000     cont: 0.003478\n",
      "2500: loss: 0.003   robustness_1: 0.000     robustness_2: 0.000     cont: 0.003036\n",
      "2600: loss: 0.003   robustness_1: 0.000     robustness_2: 0.000     cont: 0.003002\n",
      "2700: loss: 0.003   robustness_1: 0.000     robustness_2: 0.000     cont: 0.002569\n",
      "2800: loss: 0.002   robustness_1: 0.000     robustness_2: 0.000     cont: 0.001917\n",
      "2900: loss: 0.001   robustness_1: 0.000     robustness_2: 0.000     cont: 0.001439\n",
      "3000: loss: 0.002   robustness_1: 0.000     robustness_2: 0.000     cont: 0.001525\n",
      "3100: loss: 0.002   robustness_1: 0.000     robustness_2: 0.000     cont: 0.001868\n",
      "3200: loss: 0.001   robustness_1: 0.000     robustness_2: 0.000     cont: 0.001132\n",
      "3300: loss: 0.001   robustness_1: 0.000     robustness_2: 0.000     cont: 0.001464\n",
      "3400: loss: 0.001   robustness_1: 0.000     robustness_2: 0.000     cont: 0.001233\n",
      "3500: loss: 0.001   robustness_1: 0.000     robustness_2: 0.000     cont: 0.000679\n",
      "3600: loss: 0.001   robustness_1: 0.000     robustness_2: 0.000     cont: 0.000787\n",
      "3700: loss: 0.001   robustness_1: 0.000     robustness_2: 0.000     cont: 0.000845\n",
      "3800: loss: 0.001   robustness_1: 0.000     robustness_2: 0.000     cont: 0.000671\n",
      "3900: loss: 0.001   robustness_1: 0.000     robustness_2: 0.000     cont: 0.000562\n",
      "4000: loss: 0.001   robustness_1: 0.000     robustness_2: 0.000     cont: 0.000518\n",
      "4100: loss: 0.001   robustness_1: 0.000     robustness_2: 0.000     cont: 0.000525\n",
      "4200: loss: 0.000   robustness_1: 0.000     robustness_2: 0.000     cont: 0.000495\n",
      "4300: loss: 0.000   robustness_1: 0.000     robustness_2: 0.000     cont: 0.000424\n",
      "4400: loss: 0.000   robustness_1: 0.000     robustness_2: 0.000     cont: 0.000429\n",
      "4500: loss: 0.001   robustness_1: 0.000     robustness_2: 0.000     cont: 0.000946\n",
      "4600: loss: 0.000   robustness_1: 0.000     robustness_2: 0.000     cont: 0.000442\n",
      "4700: loss: 0.000   robustness_1: 0.000     robustness_2: 0.000     cont: 0.000367\n",
      "4800: loss: 0.000   robustness_1: 0.000     robustness_2: 0.000     cont: 0.000375\n",
      "4900: loss: 0.000   robustness_1: 0.000     robustness_2: 0.000     cont: 0.000483\n"
     ]
    }
   ],
   "source": [
    "##### hyperparameters #####\n",
    "γ = 0.3\n",
    "lr = 0.05\n",
    "margin = 0.05 # can add a margin so things are not right on the boundary\n",
    "###########################\n",
    "fig_path = fig_dir + \"/phi_1_margin=\" + str(margin)\n",
    "maybe_makedirs(fig_path)\n",
    "\n",
    "data_path = data_dir + \"/phi_1_margin=\" + str(margin)\n",
    "maybe_makedirs(data_path)\n",
    "\n",
    "\n",
    "for _ in range(5000):\n",
    "#     optimizer.zero_grad()\n",
    "    X = Z[:N[0]*N[1]].reshape(N[0], N[1])\n",
    "    U = Z[N[0]*N[1]:(N[0]*N[1] + (N[0]-1)*N[1])].reshape(N[0]-1,N[1])\n",
    "    ux = U[:,:1]\n",
    "    uy = U[:,1:]\n",
    "    \n",
    "    box_inputs = ((x, x),(y, y))\n",
    "    circle_inputs = torch.norm(X - obs_3[:2].unsqueeze(0), dim=-1, keepdim=True).unsqueeze(0)\n",
    "    control_inputs = U.norm(dim=1, keepdim=True).unsqueeze(0)\n",
    "    \n",
    "    robustness_1 = torch.relu(-(ϕ1.robustness(((box_inputs, box_inputs), circle_inputs), scale=-1).squeeze() - margin) )\n",
    "    robustness_2 = torch.relu(-θ.robustness(control_inputs, scale=-1).squeeze())\n",
    "\n",
    "    robustness = robustness_1 + robustness_2\n",
    "\n",
    "    cont = (torch.matmul(EE, Z) - CC).pow(2).sum()\n",
    "    \n",
    "    loss = cont + γ*robustness \n",
    "    loss.backward()\n",
    "    with torch.no_grad():\n",
    "        Z -= lr* Z.grad\n",
    "    \n",
    "    if _ % 100 == 0:\n",
    "        xy = Z[:N[0]*N[1]].reshape(N[0],N[1])\n",
    "        u = Z[N[0]*N[1]:(N[0]*N[1] + (N[0]-1)*N[1]) ].reshape(N[0]-1,N[1])\n",
    "        # plt.scatter(past.detach().numpy()[:,0], past.detach().numpy()[:,1])\n",
    "        plt.figure(figsize=(10,10))\n",
    "        plt.plot([obs_1[0], obs_1[0], obs_1[1], obs_1[1], obs_1[0]], [obs_1[2], obs_1[3], obs_1[3], obs_1[2], obs_1[2]], c=\"red\", linewidth=5)\n",
    "        plt.plot([obs_2[0], obs_2[0], obs_2[1], obs_2[1], obs_2[0]], [obs_2[2], obs_2[3], obs_2[3], obs_2[2], obs_2[2]], c=\"green\", linewidth=5)\n",
    "        plt.plot([obs_4[0], obs_4[0], obs_4[1], obs_4[1], obs_4[0]], [obs_4[2], obs_4[3], obs_4[3], obs_4[2], obs_4[2]], c=\"orange\", linewidth=5)\n",
    "\n",
    "        plt.plot([obs_3[0] + obs_3[2].numpy()*np.cos(t) for t in np.arange(0,3*np.pi,0.1)], [obs_3[1] + obs_3[2].numpy()*np.sin(t) for t in np.arange(0,3*np.pi,0.1)], c=\"blue\", linewidth=5)\n",
    "\n",
    "        plt.plot(xy.detach().numpy()[:,0], xy.detach().numpy()[:,1], c=\"black\")\n",
    "        plt.scatter(xy.detach().numpy()[:,0], xy.detach().numpy()[:,1], c=\"black\", s=100)\n",
    "        plt.scatter([-1,1], [-1,1], s=300)\n",
    "        plt.axis(\"equal\")\n",
    "\n",
    "\n",
    "        xs = [x0]\n",
    "        us = u.detach().numpy()\n",
    "        for i in range(49):\n",
    "            x_next = A @ xs[i] + B @ us[i]\n",
    "            xs.append(x_next)\n",
    "        xs = np.stack(xs)\n",
    "        plt.plot(xs[:,0], xs[:,1])\n",
    "        plt.scatter(xs[:,0], xs[:,1], c=\"lightblue\")\n",
    "        plt.savefig(fig_path + \"/\" + str(_).rjust(4, '0') + \".png\")\n",
    "        print(\"%i: loss: %.3f   robustness_1: %.3f     robustness_2: %.3f     cont: %.6f\"%(_, loss.detach().numpy(), robustness_1.detach().numpy(),  robustness_2.detach().numpy(), cont.detach().numpy()))\n",
    "        plt.close()\n",
    "    if (robustness < 1E-2) & (cont < 1E-6):\n",
    "        print(\"FINISHED!\")\n",
    "        break\n",
    "    Z.grad.zero_()"
   ]
  },
  {
   "cell_type": "code",
   "execution_count": 58,
   "metadata": {},
   "outputs": [],
   "source": [
    "np.save(data_path + \"/X.npy\", X.detach().numpy())\n",
    "np.save(data_path + \"/U.npy\", U.detach().numpy())"
   ]
  },
  {
   "cell_type": "code",
   "execution_count": null,
   "metadata": {},
   "outputs": [],
   "source": []
  },
  {
   "cell_type": "markdown",
   "metadata": {},
   "source": [
    "### Constructing  $\\phi_2 = \\lozenge\\,\\square_{[0,5]} \\text{inside orange box} \\: \\wedge \\: \\neg \\square \\text{inside green box} \\: \\wedge \\: \\neg \\square \\, \\text{inside blue circle}$ "
   ]
  },
  {
   "cell_type": "code",
   "execution_count": 63,
   "metadata": {},
   "outputs": [],
   "source": [
    "Z = torch.as_tensor((np.linalg.inv(K) @ D)[:(2*N[0] - 1) * N[1]]).float().requires_grad_(True)"
   ]
  },
  {
   "cell_type": "code",
   "execution_count": 64,
   "metadata": {},
   "outputs": [],
   "source": [
    "X = Z[:N[0]*N[1]].reshape(N[0], N[1])\n",
    "x = X[:,:1].unsqueeze(0)\n",
    "y = X[:,1:].unsqueeze(0)\n",
    "\n",
    "U = Z[N[0]*N[1]:(N[0]*N[1] + (N[0]-1)*N[1])].reshape(N[0]-1,N[1])\n",
    "ux = U[:,:1]\n",
    "uy = U[:,1:]\n",
    "\n",
    "T = 5\n",
    "inside_box_4, _ = inside_box(X, obs_4)\n",
    "inside_box_2, _ = inside_box(X, obs_2)\n",
    "has_been_inside_box_4 = stlcg.Eventually(subformula=stlcg.Always(subformula=inside_box_4, interval=[0,T]))\n",
    "never_inside_box_2 = ~stlcg.Always(subformula=inside_box_2, interval=[0,T])\n",
    "always_stay_outside_circle_formula, _ = always_stay_outside_circle(X, obs_3)\n",
    "\n",
    "ϕ2 = (has_been_inside_box_4 & never_inside_box_2) & always_stay_outside_circle_formula\n",
    "θ, _ = control_limit(U, u_max)\n",
    "\n",
    "box_inputs = ((x, x),(y, y))\n",
    "circle_inputs = torch.norm(X - obs_3[:2].unsqueeze(0), dim=-1, keepdim=True).unsqueeze(0)\n",
    "control_inputs = U.norm(dim=1, keepdim=True).unsqueeze(0)\n",
    "\n",
    "robustness_1 = torch.relu(-ϕ2.robustness(((box_inputs, box_inputs), circle_inputs), scale=-1).squeeze())\n",
    "robustness_2 = torch.relu(-θ.robustness(control_inputs, scale=-1).squeeze())"
   ]
  },
  {
   "cell_type": "code",
   "execution_count": 65,
   "metadata": {},
   "outputs": [
    {
     "name": "stdout",
     "output_type": "stream",
     "text": [
      "0: loss: 0.126   robustness_1: 0.421     robustness_2: 0.000     cont: 0.000000\n",
      "100: loss: 0.122   robustness_1: 0.391     robustness_2: 0.000     cont: 0.004404\n",
      "200: loss: 0.111   robustness_1: 0.350     robustness_2: 0.000     cont: 0.005639\n",
      "300: loss: 0.098   robustness_1: 0.300     robustness_2: 0.000     cont: 0.007524\n",
      "400: loss: 0.086   robustness_1: 0.257     robustness_2: 0.000     cont: 0.009051\n",
      "500: loss: 0.076   robustness_1: 0.221     robustness_2: 0.000     cont: 0.010109\n",
      "600: loss: 0.066   robustness_1: 0.184     robustness_2: 0.000     cont: 0.010467\n",
      "700: loss: 0.058   robustness_1: 0.156     robustness_2: 0.000     cont: 0.011376\n",
      "800: loss: 0.048   robustness_1: 0.119     robustness_2: 0.000     cont: 0.011984\n",
      "900: loss: 0.039   robustness_1: 0.087     robustness_2: 0.000     cont: 0.013305\n",
      "1000: loss: 0.031   robustness_1: 0.056     robustness_2: 0.000     cont: 0.013925\n",
      "1100: loss: 0.022   robustness_1: 0.029     robustness_2: 0.000     cont: 0.013570\n",
      "1200: loss: 0.014   robustness_1: 0.003     robustness_2: 0.000     cont: 0.013627\n",
      "1300: loss: 0.010   robustness_1: 0.000     robustness_2: 0.000     cont: 0.010470\n",
      "1400: loss: 0.008   robustness_1: 0.000     robustness_2: 0.000     cont: 0.008054\n",
      "1500: loss: 0.006   robustness_1: 0.000     robustness_2: 0.000     cont: 0.006343\n",
      "1600: loss: 0.005   robustness_1: 0.001     robustness_2: 0.000     cont: 0.005118\n",
      "1700: loss: 0.005   robustness_1: 0.000     robustness_2: 0.000     cont: 0.004816\n",
      "1800: loss: 0.004   robustness_1: 0.000     robustness_2: 0.000     cont: 0.003575\n",
      "1900: loss: 0.003   robustness_1: 0.000     robustness_2: 0.000     cont: 0.002983\n",
      "2000: loss: 0.003   robustness_1: 0.000     robustness_2: 0.000     cont: 0.002684\n",
      "2100: loss: 0.002   robustness_1: 0.000     robustness_2: 0.000     cont: 0.002106\n",
      "2200: loss: 0.002   robustness_1: 0.000     robustness_2: 0.000     cont: 0.002174\n",
      "2300: loss: 0.001   robustness_1: 0.000     robustness_2: 0.000     cont: 0.001370\n",
      "2400: loss: 0.001   robustness_1: 0.000     robustness_2: 0.000     cont: 0.001183\n",
      "2500: loss: 0.001   robustness_1: 0.000     robustness_2: 0.000     cont: 0.000960\n",
      "2600: loss: 0.001   robustness_1: 0.000     robustness_2: 0.000     cont: 0.000902\n",
      "2700: loss: 0.001   robustness_1: 0.000     robustness_2: 0.000     cont: 0.000688\n",
      "2800: loss: 0.001   robustness_1: 0.000     robustness_2: 0.000     cont: 0.000583\n",
      "2900: loss: 0.000   robustness_1: 0.000     robustness_2: 0.000     cont: 0.000471\n",
      "3000: loss: 0.001   robustness_1: 0.000     robustness_2: 0.000     cont: 0.000588\n",
      "3100: loss: 0.000   robustness_1: 0.000     robustness_2: 0.000     cont: 0.000402\n",
      "3200: loss: 0.000   robustness_1: 0.000     robustness_2: 0.000     cont: 0.000290\n",
      "3300: loss: 0.000   robustness_1: 0.000     robustness_2: 0.000     cont: 0.000253\n",
      "3400: loss: 0.001   robustness_1: 0.000     robustness_2: 0.000     cont: 0.000692\n",
      "3500: loss: 0.000   robustness_1: 0.000     robustness_2: 0.000     cont: 0.000185\n",
      "3600: loss: 0.000   robustness_1: 0.000     robustness_2: 0.000     cont: 0.000177\n",
      "3700: loss: 0.000   robustness_1: 0.000     robustness_2: 0.000     cont: 0.000139\n",
      "3800: loss: 0.000   robustness_1: 0.000     robustness_2: 0.000     cont: 0.000182\n",
      "3900: loss: 0.000   robustness_1: 0.000     robustness_2: 0.000     cont: 0.000120\n",
      "4000: loss: 0.000   robustness_1: 0.000     robustness_2: 0.000     cont: 0.000092\n",
      "4100: loss: 0.000   robustness_1: 0.000     robustness_2: 0.000     cont: 0.000081\n",
      "4200: loss: 0.000   robustness_1: 0.000     robustness_2: 0.000     cont: 0.000190\n",
      "4300: loss: 0.000   robustness_1: 0.000     robustness_2: 0.000     cont: 0.000064\n",
      "4400: loss: 0.000   robustness_1: 0.000     robustness_2: 0.000     cont: 0.000046\n",
      "4500: loss: 0.000   robustness_1: 0.000     robustness_2: 0.000     cont: 0.000058\n",
      "4600: loss: 0.000   robustness_1: 0.000     robustness_2: 0.000     cont: 0.000047\n",
      "4700: loss: 0.000   robustness_1: 0.000     robustness_2: 0.000     cont: 0.000049\n",
      "4800: loss: 0.000   robustness_1: 0.000     robustness_2: 0.000     cont: 0.000040\n",
      "4900: loss: 0.000   robustness_1: 0.000     robustness_2: 0.000     cont: 0.000030\n"
     ]
    }
   ],
   "source": [
    "##### hyperparameters #####\n",
    "γ = 0.3\n",
    "lr = 0.05\n",
    "margin = 0.05 # can add a margin so things are not right on the boundary\n",
    "###########################\n",
    "fig_path = fig_dir + \"/phi_2_margin=\" + str(margin)\n",
    "maybe_makedirs(fig_path)\n",
    "\n",
    "data_path = data_dir + \"/phi_2_margin=\" + str(margin)\n",
    "maybe_makedirs(data_path)\n",
    "\n",
    "for _ in range(5000):\n",
    "    X = Z[:N[0]*N[1]].reshape(N[0], N[1])\n",
    "    U = Z[N[0]*N[1]:(N[0]*N[1] + (N[0]-1)*N[1])].reshape(N[0]-1,N[1])\n",
    "    ux = U[:,:1]\n",
    "    uy = U[:,1:]\n",
    "    \n",
    "    box_inputs = ((x, x),(y, y))\n",
    "    circle_inputs = torch.norm(X - obs_3[:2].unsqueeze(0), dim=-1, keepdim=True).unsqueeze(0)\n",
    "    control_inputs = U.norm(dim=1, keepdim=True).unsqueeze(0)\n",
    "    \n",
    "    robustness_1 = torch.relu(-(ϕ2.robustness(((box_inputs, box_inputs), circle_inputs), scale=-1).squeeze() - margin))\n",
    "    robustness_2 = torch.relu(-θ.robustness(control_inputs, scale=-1).squeeze())\n",
    "\n",
    "    robustness = robustness_1 + robustness_2\n",
    "\n",
    "    cont = (torch.matmul(EE, Z) - CC).pow(2).sum()\n",
    "    \n",
    "    loss = cont + γ*robustness \n",
    "    loss.backward()\n",
    "    with torch.no_grad():\n",
    "        Z -= lr* Z.grad\n",
    "    \n",
    "    if _ % 100 == 0:\n",
    "        xy = Z[:N[0]*N[1]].reshape(N[0],N[1])\n",
    "        u = Z[N[0]*N[1]:(N[0]*N[1] + (N[0]-1)*N[1]) ].reshape(N[0]-1,N[1])\n",
    "        plt.figure(figsize=(10,10))\n",
    "        plt.plot([obs_1[0], obs_1[0], obs_1[1], obs_1[1], obs_1[0]], [obs_1[2], obs_1[3], obs_1[3], obs_1[2], obs_1[2]], c=\"red\", linewidth=5)\n",
    "        plt.plot([obs_2[0], obs_2[0], obs_2[1], obs_2[1], obs_2[0]], [obs_2[2], obs_2[3], obs_2[3], obs_2[2], obs_2[2]], c=\"green\", linewidth=5)\n",
    "        plt.plot([obs_4[0], obs_4[0], obs_4[1], obs_4[1], obs_4[0]], [obs_4[2], obs_4[3], obs_4[3], obs_4[2], obs_4[2]], c=\"orange\", linewidth=5)\n",
    "\n",
    "        plt.plot([obs_3[0] + obs_3[2].numpy()*np.cos(t) for t in np.arange(0,3*np.pi,0.1)], [obs_3[1] + obs_3[2].numpy()*np.sin(t) for t in np.arange(0,3*np.pi,0.1)], c=\"blue\", linewidth=5)\n",
    "\n",
    "        plt.plot(xy.detach().numpy()[:,0], xy.detach().numpy()[:,1], c=\"black\")\n",
    "        plt.scatter(xy.detach().numpy()[:,0], xy.detach().numpy()[:,1], c=\"black\", s=100)\n",
    "        plt.scatter([-1,1], [-1,1], s=300)\n",
    "        plt.axis(\"equal\")\n",
    "\n",
    "\n",
    "        xs = [x0]\n",
    "        us = u.detach().numpy()\n",
    "        for i in range(49):\n",
    "            x_next = A @ xs[i] + B @ us[i]\n",
    "            xs.append(x_next)\n",
    "        xs = np.stack(xs)\n",
    "        plt.plot(xs[:,0], xs[:,1])\n",
    "        plt.scatter(xs[:,0], xs[:,1], c=\"orange\")\n",
    "        plt.savefig(fig_path + \"/\" + str(_).rjust(4, '0') + \".png\")\n",
    "        print(\"%i: loss: %.3f   robustness_1: %.3f     robustness_2: %.3f     cont: %.6f\"%(_, loss.detach().numpy(), robustness_1.detach().numpy(),  robustness_2.detach().numpy(), cont.detach().numpy()))\n",
    "        plt.close()\n",
    "    if (robustness < 1E-2) & (cont < 1E-6):\n",
    "        print(\"FINISHED!\")\n",
    "        break\n",
    "    Z.grad.zero_()"
   ]
  },
  {
   "cell_type": "code",
   "execution_count": 66,
   "metadata": {},
   "outputs": [],
   "source": [
    "np.save(data_path + \"/X.npy\", X.detach().numpy())\n",
    "np.save(data_path + \"/U.npy\", U.detach().numpy())"
   ]
  }
 ],
 "metadata": {
  "@webio": {
   "lastCommId": null,
   "lastKernelId": null
  },
  "kernelspec": {
   "display_name": "Python 3.5 (stlcg)",
   "language": "python",
   "name": "stlcg-env"
  },
  "language_info": {
   "codemirror_mode": {
    "name": "ipython",
    "version": 3
   },
   "file_extension": ".py",
   "mimetype": "text/x-python",
   "name": "python",
   "nbconvert_exporter": "python",
   "pygments_lexer": "ipython3",
   "version": "3.5.2"
  }
 },
 "nbformat": 4,
 "nbformat_minor": 2
}
