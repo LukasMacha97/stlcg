{
 "cells": [
  {
   "cell_type": "code",
   "execution_count": 10,
   "metadata": {},
   "outputs": [
    {
     "name": "stderr",
     "output_type": "stream",
     "text": [
      "/home/karenleung/Documents/simulator/lanechange/scripts/data_collection.py:371: RuntimeWarning: invalid value encountered in less\n",
      "  front_collision = np.where(front_distance(veh_data) < long_gap)[0]\n",
      "/home/karenleung/Documents/simulator/lanechange/scripts/data_collection.py:372: RuntimeWarning: invalid value encountered in less\n",
      "  rear_collision = np.where(rear_distance(veh_data) < long_gap)[0]\n",
      "/home/karenleung/Documents/simulator/lanechange/scripts/data_collection.py:374: RuntimeWarning: invalid value encountered in less\n",
      "  front_left_collision = np.where(np.logical_and(front_left_x(veh_data) < long_gap, front_left_y(veh_data) < lat_gap) > 0)[0]\n"
     ]
    },
    {
     "name": "stdout",
     "output_type": "stream",
     "text": [
      "enter.9 trial_137\n",
      "exit.6 trial_137\n",
      "enter.8 trial_138\n",
      "enter.9 trial_138\n",
      "exit.5 trial_138\n",
      "exit.6 trial_138\n",
      "enter.8 trial_165\n",
      "enter.9 trial_165\n",
      "exit.6 trial_165\n",
      "enter.8 trial_86\n",
      "enter.9 trial_86\n",
      "exit.5 trial_86\n",
      "exit.6 trial_86\n"
     ]
    },
    {
     "name": "stderr",
     "output_type": "stream",
     "text": [
      "/home/karenleung/Documents/simulator/lanechange/scripts/data_collection.py:375: RuntimeWarning: invalid value encountered in less\n",
      "  front_right_collision = np.where(np.logical_and(front_right_x(veh_data) < long_gap, front_right_y(veh_data) < lat_gap) > 0)[0]\n",
      "/home/karenleung/Documents/simulator/lanechange/scripts/data_collection.py:377: RuntimeWarning: invalid value encountered in less\n",
      "  rear_left_collision = np.where(np.logical_and(rear_left_x(veh_data) < long_gap, rear_left_y(veh_data) < lat_gap) > 0)[0]\n",
      "/home/karenleung/Documents/simulator/lanechange/scripts/data_collection.py:378: RuntimeWarning: invalid value encountered in less\n",
      "  rear_right_collision = np.where(np.logical_and(rear_right_x(veh_data) < long_gap, rear_right_y(veh_data) < lat_gap) > 0)[0]\n"
     ]
    }
   ],
   "source": [
    "extract_dict = default_dict\n",
    "data_df = pd.read_pickle('../data/pickles/lanechange_fancy.pkl')\n",
    "data_np, tl, col, col_type = bag_dataframe_to_3d_numpy(data_df, extract_dict)\n",
    "np_dict = {'data_np': data_np, 'tl': tl, 'col': col, 'col_type': col_type}\n",
    "np.savez('../data/npz/lanechange_default' + \".npz\", **np_dict)"
   ]
  },
  {
   "cell_type": "code",
   "execution_count": 3,
   "metadata": {
    "scrolled": false
   },
   "outputs": [
    {
     "data": {
      "application/vnd.jupyter.widget-view+json": {
       "model_id": "ed352e039b124bf8ba7d699521654c45",
       "version_major": 2,
       "version_minor": 0
      },
      "text/plain": [
       "A Jupyter Widget"
      ]
     },
     "metadata": {},
     "output_type": "display_data"
    },
    {
     "data": {
      "text/plain": [
       "<function utils.plotTrial>"
      ]
     },
     "execution_count": 3,
     "metadata": {},
     "output_type": "execute_result"
    }
   ],
   "source": [
    "# i is time step, j is trial number\n",
    "interact(utils.plotTrial, i=(0, 700), j=(0,199), data_df=fixed(data_df))"
   ]
  },
  {
   "cell_type": "code",
   "execution_count": 18,
   "metadata": {},
   "outputs": [
    {
     "data": {
      "text/plain": [
       "(2987, 604, 63)"
      ]
     },
     "execution_count": 18,
     "metadata": {},
     "output_type": "execute_result"
    }
   ],
   "source": [
    "data_np.shape"
   ]
  },
  {
   "cell_type": "code",
   "execution_count": 4,
   "metadata": {},
   "outputs": [
    {
     "data": {
      "application/vnd.jupyter.widget-view+json": {
       "model_id": "ad34438d4f7c496ea9ac9a56326997fc",
       "version_major": 2,
       "version_minor": 0
      },
      "text/plain": [
       "A Jupyter Widget"
      ]
     },
     "metadata": {},
     "output_type": "display_data"
    }
   ],
   "source": [
    "# plots the ego car and its surround cars.\n",
    "utils.plotStateTrace(data_np, tl, col)"
   ]
  },
  {
   "cell_type": "code",
   "execution_count": 5,
   "metadata": {
    "collapsed": true
   },
   "outputs": [],
   "source": [
    "# some useful quantities\n",
    "front_distance = lambda m: np.array(m['x_front_veh']) - np.array(m['x_ego'])\n",
    "rear_distance = lambda m: np.array(m['x_ego']) - np.array(m['x_rear_veh'])\n",
    "\n",
    "front_left_x = lambda m: np.array(m['x_front_left_veh']) - np.array(m['x_ego'])\n",
    "front_right_x = lambda m: np.array(m['x_front_right_veh']) - np.array(m['x_ego'])\n",
    "\n",
    "rear_left_x = lambda m: np.array(m['x_ego']) - np.array(m['x_rear_left_veh'])\n",
    "rear_right_x = lambda m: np.array(m['x_ego']) - np.array(m['x_rear_right_veh'])\n",
    "\n",
    "front_left_y = lambda m: np.array(m['y_front_left_veh']) - np.array(m['y_ego'])\n",
    "front_right_y = lambda m: np.array(m['y_ego']) - np.array(m['y_front_right_veh'])\n",
    "\n",
    "rear_left_y = lambda m: np.array(m['y_rear_left_veh']) - np.array(m['y_ego'])\n",
    "rear_right_y = lambda m: np.array(m['y_ego']) - np.array(m['y_rear_right_veh'])\n"
   ]
  },
  {
   "cell_type": "code",
   "execution_count": 6,
   "metadata": {
    "scrolled": false
   },
   "outputs": [
    {
     "data": {
      "application/vnd.jupyter.widget-view+json": {
       "model_id": "28da5b2f75c3417388337e9c9d679518",
       "version_major": 2,
       "version_minor": 0
      },
      "text/plain": [
       "A Jupyter Widget"
      ]
     },
     "metadata": {},
     "output_type": "display_data"
    }
   ],
   "source": [
    "# plot traces of useful quantities\n",
    "stuff = [(lambda m: m['x_ego'], lambda m: m['y_ego'], 'position'),\n",
    "#          (lambda m: m['x_ego'], lambda m: m['omega_ego'], 'theta'),\n",
    "#          (lambda m: m['x_ego'], lambda m: m['a_ego'], 'acceleration'),\n",
    "         (lambda m: m['x_ego'], lambda m: m['theta_ego'], 'theta'),\n",
    "         (lambda m: m['x_ego'], lambda m: m['v_ego']*np.cos(m['theta_ego']), 'y velocity'),\n",
    "#          (lambda m: m['x_ego'], front_distance, 'front_distance'),\n",
    "#          (lambda m: m['x_ego'], rear_distance, 'rear_distance'),\n",
    "#          (lambda m: m['x_ego'], front_left_x, 'front_left_x') ,\n",
    "#          (lambda m: m['x_ego'], rear_left_x, 'rear_left_x'),\n",
    "#          (lambda m: m['x_ego'], front_right_x, 'front_right_x'),\n",
    "#          (lambda m: m['x_ego'], rear_right_x, 'rear_right_x'),\n",
    "#          (lambda m: m['x_ego'], front_left_y, 'front_left_y'),\n",
    "#          (lambda m: m['x_ego'], rear_left_y, 'rear_left_y'),\n",
    "#          (lambda m: m['x_ego'], front_right_y, 'front_right_y'),\n",
    "#          (lambda m: m['x_ego'], rear_right_y, 'rear_right_y'),\n",
    "         ]\n",
    "utils.plotRelevantSection(data_df, stuff)"
   ]
  },
  {
   "cell_type": "code",
   "execution_count": null,
   "metadata": {
    "collapsed": true
   },
   "outputs": [],
   "source": []
  }
 ],
 "metadata": {
  "kernelspec": {
   "display_name": "Python 3",
   "language": "python",
   "name": "python3"
  },
  "language_info": {
   "codemirror_mode": {
    "name": "ipython",
    "version": 3
   },
   "file_extension": ".py",
   "mimetype": "text/x-python",
   "name": "python",
   "nbconvert_exporter": "python",
   "pygments_lexer": "ipython3",
   "version": "3.6.6"
  }
 },
 "nbformat": 4,
 "nbformat_minor": 2
}
