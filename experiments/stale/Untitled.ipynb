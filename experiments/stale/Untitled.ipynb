{
 "cells": [
  {
   "cell_type": "code",
   "execution_count": 1,
   "metadata": {},
   "outputs": [],
   "source": [
    "from __future__ import absolute_import\n",
    "from __future__ import print_function\n",
    "import os\n",
    "import sys\n",
    "import Queue\n",
    "import threading\n",
    "import math\n"
   ]
  },
  {
   "cell_type": "code",
   "execution_count": 2,
   "metadata": {},
   "outputs": [],
   "source": [
    "\n",
    "try:\n",
    "    sys.path.append(os.path.join(os.environ.get(\"SUMO_HOME\",os.path.join(os.getcwd(), '..')), \"tools\"))\n",
    "    from sumolib import checkBinary  # noqa\n",
    "    import traci\n",
    "except ImportError:\n",
    "    sys.exit(\n",
    "        \"please declare environment variable 'SUMO_HOME' as the root directory of your sumo installation (it should contain folders 'bin', 'tools' and 'docs')\")\n"
   ]
  },
  {
   "cell_type": "code",
   "execution_count": 3,
   "metadata": {},
   "outputs": [],
   "source": [
    "from Tkinter import *\n",
    "\n",
    "eventQueue = Queue.Queue()\n",
    "TS = 0.05\n",
    "VERBOSE = False\n",
    "\n",
    "\n",
    "def downKey(event):\n",
    "    eventQueue.put('slow')\n",
    "    if VERBOSE:\n",
    "        print(\"Down key pressed\")\n",
    "\n",
    "\n",
    "def upKey(event):\n",
    "    eventQueue.put('fast')\n",
    "    if VERBOSE:\n",
    "        print(\"Up key pressed\")\n",
    "\n",
    "\n",
    "def leftKey(event):\n",
    "    eventQueue.put('up')\n",
    "    if VERBOSE:\n",
    "        print(\"Left key pressed\")\n",
    "\n",
    "\n",
    "def rightKey(event):\n",
    "    eventQueue.put('down')\n",
    "    if VERBOSE:\n",
    "        print(\"Right key pressed\")\n",
    "\n",
    "def nextCar(event):\n",
    "    eventQueue.put('next_car')\n",
    "    if VERBOSE:\n",
    "        print(\"N key pressed\")\n",
    "\n",
    "def prevCar(event):\n",
    "    eventQueue.put('prev_car')\n",
    "    if VERBOSE:\n",
    "        print(\"P key pressed\")"
   ]
  },
  {
   "cell_type": "code",
   "execution_count": 4,
   "metadata": {},
   "outputs": [],
   "source": [
    "\n",
    "class AdoVehicleControl:\n",
    "\n",
    "    \"\"\"\n",
    "    Launch the main part of the GUI and the worker thread. periodicCall and\n",
    "    endApplication could reside in the GUI part, but putting them here\n",
    "    means that you have all the thread controls in a single place.\n",
    "    \"\"\"\n",
    "\n",
    "    def __init__(self, master, sumocfg, egoID):\n",
    "        self.master = master\n",
    "        self.sumocfg = sumocfg\n",
    "        self.egoID = egoID\n",
    "        self.running = True\n",
    "\n",
    "        self.thread = threading.Thread(target=self.workerThread)\n",
    "        self.thread.start()\n",
    "        self.type = \"fast\"\n",
    "        # Start the periodic call in the GUI to see if it can be closed\n",
    "        self.periodicCall()\n",
    "\n",
    "    def periodicCall(self):\n",
    "        if not self.running:\n",
    "            sys.exit(1)\n",
    "        self.master.after(100, self.periodicCall)\n",
    "\n",
    "    def workerThread(self):\n",
    "        try:\n",
    "            traci.start([checkBinary(\"sumo-gui\"), \"-c\", self.sumocfg,\n",
    "                         # \"--lateral-resolution\", \"0.05\",\n",
    "                         # \"--collision.action\", \"warn\",\n",
    "                         # \"--step-length\", str(TS)\n",
    "                         ])\n",
    "            # steal focus for keyboard input after sumo-gui has loaded\n",
    "            # self.master.focus_force() # not working on all platforms\n",
    "            # make sure ego vehicle is loaded\n",
    "            traci.simulationStep()\n",
    "            speed = traci.vehicle.getSpeed(self.egoID)\n",
    "            angle = traci.vehicle.getAngle(self.egoID)\n",
    "            traci.vehicle.setSpeedMode(self.egoID, 0)\n",
    "            steerAngle = 0\n",
    "            x, y = traci.vehicle.getPosition(self.egoID)\n",
    "            traci.gui.trackVehicle(traci.gui.DEFAULT_VIEW, self.egoID)\n",
    "            while traci.simulation.getMinExpectedNumber() > 0:\n",
    "                try:\n",
    "                    if eventQueue.qsize():\n",
    "                        button = eventQueue.get(0)\n",
    "                        if button == \"next_car\":\n",
    "                            p = self.egoID.split('.')\n",
    "                            self.egoID = p[0] + '.' + str(int(p[1])+1)\n",
    "                            speed = traci.vehicle.getSpeed(self.egoID)\n",
    "                            angle = traci.vehicle.getAngle(self.egoID)\n",
    "                            traci.vehicle.setSpeedMode(self.egoID, 0)\n",
    "                            steerAngle = 0\n",
    "                            x, y = traci.vehicle.getPosition(self.egoID)\n",
    "                            traci.gui.trackVehicle(traci.gui.DEFAULT_VIEW, self.egoID)\n",
    "                            continue\n",
    "                        elif button == \"prev_car\":\n",
    "                            p = self.egoID.split('.')\n",
    "                            self.egoID = p[0] + '.' + str(int(p[1])-1)\n",
    "                            speed = traci.vehicle.getSpeed(self.egoID)\n",
    "                            angle = traci.vehicle.getAngle(self.egoID)\n",
    "                            traci.vehicle.setSpeedMode(self.egoID, 0)\n",
    "                            steerAngle = 0\n",
    "                            x, y = traci.vehicle.getPosition(self.egoID)\n",
    "                            traci.gui.trackVehicle(traci.gui.DEFAULT_VIEW, self.egoID)\n",
    "                            continue\n",
    "                        else:\n",
    "                            self.type = button\n",
    "                            if self.type == \"fast\":\n",
    "                                speed += 2\n",
    "                            elif self.type == \"slow\":\n",
    "                                speed -= 2\n",
    "                            elif self.type == \"up\":\n",
    "                                angle -= 5\n",
    "                            elif self.type == \"down\":\n",
    "                                angle += 5\n",
    "                            else:\n",
    "                                print(\"WHAT ARE YOU DOING?!?!\")\n",
    "                except Queue.Empty:\n",
    "                    pass\n",
    "                # angle += steerAngle\n",
    "                angle = angle % 360\n",
    "                rad = angle / 180 * math.pi + 0.5 * math.pi\n",
    "                x2 = x - math.cos(rad) * TS * speed\n",
    "                y2 = y + math.sin(rad) * TS * speed\n",
    "                traci.vehicle.setSpeed(self.egoID, speed)\n",
    "                traci.vehicle.moveToXY(self.egoID, \"1\", 0, x2, y2, angle, keepRoute=2)\n",
    "                x3, y3 = traci.vehicle.getPosition(self.egoID)\n",
    "                x, y = x2, y2\n",
    "                traci.simulationStep()\n",
    "                if VERBOSE:\n",
    "                    print(\"old=%.2f,%.2f new=%.2f,%.2f found=%.2f,%.2f speed=%.2f steer=%.2f angle=%s rad/pi=%.2f cos=%.2f sin=%.2f\" % (\n",
    "                        x, y, x2, y2, x3, y3, speed, steerAngle, angle, rad / math.pi,\n",
    "                        math.cos(rad), math.sin(rad)))\n",
    "            traci.close()\n",
    "        except traci.FatalTraCIError:\n",
    "            pass\n",
    "        self.running = False\n",
    "\n"
   ]
  },
  {
   "cell_type": "code",
   "execution_count": 5,
   "metadata": {},
   "outputs": [
    {
     "name": "stdout",
     "output_type": "stream",
     "text": [
      "racing.py <sumocfg> [<egoID>]\n"
     ]
    }
   ],
   "source": [
    "\n",
    "def main(sumocfg=\"/home/karen/projects/trams/explanatory_factors/sumo-files/lanechange_fancy.sumo.cfg\", egoID=\"exit.0\"):\n",
    "    root = Tk()\n",
    "    root.geometry('180x100+0+0')\n",
    "    frame = Frame(root)\n",
    "    Button(frame, text=\"Click here.\\nControl with arrow keys\").grid(row=0)\n",
    "    root.bind('<Left>', leftKey)\n",
    "    root.bind('<Right>', rightKey)\n",
    "    root.bind('<Up>', upKey)\n",
    "    root.bind('<Down>', downKey)\n",
    "    root.bind('n', nextCar)\n",
    "    root.bind('p', prevCar)\n",
    "    frame.pack()\n",
    "\n",
    "    client = AdoVehicleControl(root, sumocfg, egoID)\n",
    "    root.mainloop()\n",
    "\n",
    "if len(sys.argv) < 3:\n",
    "    main(*sys.argv[1:])\n",
    "else:\n",
    "    print(\"racing.py <sumocfg> [<egoID>]\")\n"
   ]
  },
  {
   "cell_type": "code",
   "execution_count": 8,
   "metadata": {
    "scrolled": false
   },
   "outputs": [
    {
     "name": "stdout",
     "output_type": "stream",
     "text": [
      "Could not connect to TraCI server at localhost:38887 [Errno 111] Connection refused\n",
      " Retrying in 1 seconds\n"
     ]
    },
    {
     "ename": "KeyboardInterrupt",
     "evalue": "",
     "output_type": "error",
     "traceback": [
      "\u001b[0;31m---------------------------------------------------------------------------\u001b[0m",
      "\u001b[0;31mKeyboardInterrupt\u001b[0m                         Traceback (most recent call last)",
      "\u001b[0;32m<ipython-input-8-263240bbee7e>\u001b[0m in \u001b[0;36m<module>\u001b[0;34m()\u001b[0m\n\u001b[0;32m----> 1\u001b[0;31m \u001b[0mmain\u001b[0m\u001b[0;34m(\u001b[0m\u001b[0;34m)\u001b[0m\u001b[0;34m\u001b[0m\u001b[0m\n\u001b[0m",
      "\u001b[0;32m<ipython-input-5-a52660bca84b>\u001b[0m in \u001b[0;36mmain\u001b[0;34m(sumocfg, egoID)\u001b[0m\n\u001b[1;32m     14\u001b[0m \u001b[0;34m\u001b[0m\u001b[0m\n\u001b[1;32m     15\u001b[0m     \u001b[0mclient\u001b[0m \u001b[0;34m=\u001b[0m \u001b[0mAdoVehicleControl\u001b[0m\u001b[0;34m(\u001b[0m\u001b[0mroot\u001b[0m\u001b[0;34m,\u001b[0m \u001b[0msumocfg\u001b[0m\u001b[0;34m,\u001b[0m \u001b[0megoID\u001b[0m\u001b[0;34m)\u001b[0m\u001b[0;34m\u001b[0m\u001b[0m\n\u001b[0;32m---> 16\u001b[0;31m     \u001b[0mroot\u001b[0m\u001b[0;34m.\u001b[0m\u001b[0mmainloop\u001b[0m\u001b[0;34m(\u001b[0m\u001b[0;34m)\u001b[0m\u001b[0;34m\u001b[0m\u001b[0m\n\u001b[0m\u001b[1;32m     17\u001b[0m \u001b[0;34m\u001b[0m\u001b[0m\n\u001b[1;32m     18\u001b[0m \u001b[0;32mif\u001b[0m \u001b[0mlen\u001b[0m\u001b[0;34m(\u001b[0m\u001b[0msys\u001b[0m\u001b[0;34m.\u001b[0m\u001b[0margv\u001b[0m\u001b[0;34m)\u001b[0m \u001b[0;34m<\u001b[0m \u001b[0;36m3\u001b[0m\u001b[0;34m:\u001b[0m\u001b[0;34m\u001b[0m\u001b[0m\n",
      "\u001b[0;32m/usr/lib/python2.7/lib-tk/Tkinter.pyc\u001b[0m in \u001b[0;36mmainloop\u001b[0;34m(self, n)\u001b[0m\n\u001b[1;32m   1126\u001b[0m     \u001b[0;32mdef\u001b[0m \u001b[0mmainloop\u001b[0m\u001b[0;34m(\u001b[0m\u001b[0mself\u001b[0m\u001b[0;34m,\u001b[0m \u001b[0mn\u001b[0m\u001b[0;34m=\u001b[0m\u001b[0;36m0\u001b[0m\u001b[0;34m)\u001b[0m\u001b[0;34m:\u001b[0m\u001b[0;34m\u001b[0m\u001b[0m\n\u001b[1;32m   1127\u001b[0m         \u001b[0;34m\"\"\"Call the mainloop of Tk.\"\"\"\u001b[0m\u001b[0;34m\u001b[0m\u001b[0m\n\u001b[0;32m-> 1128\u001b[0;31m         \u001b[0mself\u001b[0m\u001b[0;34m.\u001b[0m\u001b[0mtk\u001b[0m\u001b[0;34m.\u001b[0m\u001b[0mmainloop\u001b[0m\u001b[0;34m(\u001b[0m\u001b[0mn\u001b[0m\u001b[0;34m)\u001b[0m\u001b[0;34m\u001b[0m\u001b[0m\n\u001b[0m\u001b[1;32m   1129\u001b[0m     \u001b[0;32mdef\u001b[0m \u001b[0mquit\u001b[0m\u001b[0;34m(\u001b[0m\u001b[0mself\u001b[0m\u001b[0;34m)\u001b[0m\u001b[0;34m:\u001b[0m\u001b[0;34m\u001b[0m\u001b[0m\n\u001b[1;32m   1130\u001b[0m         \u001b[0;34m\"\"\"Quit the Tcl interpreter. All widgets will be destroyed.\"\"\"\u001b[0m\u001b[0;34m\u001b[0m\u001b[0m\n",
      "\u001b[0;32m/usr/lib/python2.7/lib-tk/Tkinter.pyc\u001b[0m in \u001b[0;36m__call__\u001b[0;34m(self, *args)\u001b[0m\n\u001b[1;32m   1533\u001b[0m         \u001b[0mself\u001b[0m\u001b[0;34m.\u001b[0m\u001b[0msubst\u001b[0m \u001b[0;34m=\u001b[0m \u001b[0msubst\u001b[0m\u001b[0;34m\u001b[0m\u001b[0m\n\u001b[1;32m   1534\u001b[0m         \u001b[0mself\u001b[0m\u001b[0;34m.\u001b[0m\u001b[0mwidget\u001b[0m \u001b[0;34m=\u001b[0m \u001b[0mwidget\u001b[0m\u001b[0;34m\u001b[0m\u001b[0m\n\u001b[0;32m-> 1535\u001b[0;31m     \u001b[0;32mdef\u001b[0m \u001b[0m__call__\u001b[0m\u001b[0;34m(\u001b[0m\u001b[0mself\u001b[0m\u001b[0;34m,\u001b[0m \u001b[0;34m*\u001b[0m\u001b[0margs\u001b[0m\u001b[0;34m)\u001b[0m\u001b[0;34m:\u001b[0m\u001b[0;34m\u001b[0m\u001b[0m\n\u001b[0m\u001b[1;32m   1536\u001b[0m         \u001b[0;34m\"\"\"Apply first function SUBST to arguments, than FUNC.\"\"\"\u001b[0m\u001b[0;34m\u001b[0m\u001b[0m\n\u001b[1;32m   1537\u001b[0m         \u001b[0;32mtry\u001b[0m\u001b[0;34m:\u001b[0m\u001b[0;34m\u001b[0m\u001b[0m\n",
      "\u001b[0;31mKeyboardInterrupt\u001b[0m: "
     ]
    }
   ],
   "source": [
    "main()\n"
   ]
  },
  {
   "cell_type": "code",
   "execution_count": null,
   "metadata": {},
   "outputs": [],
   "source": []
  }
 ],
 "metadata": {
  "kernelspec": {
   "display_name": "Python 2",
   "language": "python",
   "name": "python2"
  },
  "language_info": {
   "codemirror_mode": {
    "name": "ipython",
    "version": 2
   },
   "file_extension": ".py",
   "mimetype": "text/x-python",
   "name": "python",
   "nbconvert_exporter": "python",
   "pygments_lexer": "ipython2",
   "version": "2.7.12"
  }
 },
 "nbformat": 4,
 "nbformat_minor": 2
}
