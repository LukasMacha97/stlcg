{
 "cells": [
  {
   "cell_type": "code",
   "execution_count": 1,
   "metadata": {},
   "outputs": [],
   "source": [
    "%matplotlib inline\n",
    "import sys\n",
    "sys.path.insert(0, 'src')"
   ]
  },
  {
   "cell_type": "code",
   "execution_count": 2,
   "metadata": {},
   "outputs": [],
   "source": [
    "import stlcg\n",
    "import stlviz as viz\n",
    "from stlcg import Expression\n",
    "from utils import print_learning_progress"
   ]
  },
  {
   "cell_type": "code",
   "execution_count": 3,
   "metadata": {},
   "outputs": [],
   "source": [
    "import torch\n",
    "import numpy as np\n",
    "import matplotlib.pyplot as plt\n",
    "import importlib"
   ]
  },
  {
   "cell_type": "markdown",
   "metadata": {},
   "source": [
    "## Create traces from numpy arrays"
   ]
  },
  {
   "cell_type": "code",
   "execution_count": 4,
   "metadata": {},
   "outputs": [],
   "source": [
    "t = t = np.arange(-3, 3, 0.2, dtype=np.float32)\n",
    "x_np = 0.5 * np.exp(-t**2).reshape([1, t.shape[0], 1])\n",
    "w_np = (0.4*np.exp(-(t + 0.5)**2) + 0.2*np.exp(-(t - 3)**2)).reshape([1, t.shape[0], 1])\n",
    "\n",
    "x = torch.tensor(x_np, requires_grad=False)\n",
    "w = torch.tensor(w_np, requires_grad=False)\n",
    "c = torch.tensor(1.0, dtype=torch.float, requires_grad=True)\n",
    "d = torch.tensor(0.9, dtype=torch.float, requires_grad=True)"
   ]
  },
  {
   "cell_type": "code",
   "execution_count": 5,
   "metadata": {},
   "outputs": [
    {
     "data": {
      "text/plain": [
       "Text(0.5, 1.0, 'Traces')"
      ]
     },
     "execution_count": 5,
     "metadata": {},
     "output_type": "execute_result"
    },
    {
     "data": {
      "image/png": "[encoded data removed]",
      "text/plain": [
       "<Figure size 576x360 with 1 Axes>"
      ]
     },
     "metadata": {
      "needs_background": "light"
     },
     "output_type": "display_data"
    }
   ],
   "source": [
    "plt.figure(figsize=(8, 5))\n",
    "plt.plot(t, x_np[0,:,0], \".-\", linewidth=3, markersize=15, label=\"x\")\n",
    "plt.plot(t, w_np[0,:,0], \".-\", linewidth=3, markersize=15, label=\"w\")\n",
    "plt.legend(fontsize=16)\n",
    "plt.title(\"Traces\", fontsize=16)"
   ]
  },
  {
   "cell_type": "markdown",
   "metadata": {},
   "source": [
    "# Constructing STL formulas"
   ]
  },
  {
   "cell_type": "markdown",
   "metadata": {},
   "source": [
    "### One way to construct formulas is to explicitly call the constructors"
   ]
  },
  {
   "cell_type": "code",
   "execution_count": 6,
   "metadata": {},
   "outputs": [
    {
     "name": "stdout",
     "output_type": "stream",
     "text": [
      "(◻ [0, inf]( x <= 1.0 )) ∧ (◻ [0, inf]( w <= 0.9 ))\n"
     ]
    },
    {
     "data": {
      "image/svg+xml": [
       "<?xml version=\"1.0\" encoding=\"UTF-8\" standalone=\"no\"?>\n",
       "<!DOCTYPE svg PUBLIC \"-//W3C//DTD SVG 1.1//EN\"\n",
       " \"http://www.w3.org/Graphics/SVG/1.1/DTD/svg11.dtd\">\n",
       "<!-- Generated by graphviz version 2.40.1 (20161225.0304)\n",
       " -->\n",
       "<!-- Title: %3 Pages: 1 -->\n",
       "<svg width=\"311pt\" height=\"236pt\"\n",
       " viewBox=\"0.00 0.00 311.00 236.50\" xmlns=\"http://www.w3.org/2000/svg\" xmlns:xlink=\"http://www.w3.org/1999/xlink\">\n",
       "<g id=\"graph0\" class=\"graph\" transform=\"scale(1 1) rotate(0) translate(4 232.4956)\">\n",
       "<title>%3</title>\n",
       "<polygon fill=\"#ffffff\" stroke=\"transparent\" points=\"-4,4 -4,-232.4956 307,-232.4956 307,4 -4,4\"/>\n",
       "<!-- 4879487504 -->\n",
       "<g id=\"node1\" class=\"node\">\n",
       "<title>4879487504</title>\n",
       "<polygon fill=\"#ffa500\" stroke=\"#000000\" points=\"277.5629,-34.3726 24.4371,-34.3726 24.4371,.1248 277.5629,.1248 277.5629,-34.3726\"/>\n",
       "<text text-anchor=\"middle\" x=\"151\" y=\"-20.6478\" font-family=\"Times,serif\" font-size=\"12.00\" fill=\"#000000\">And</text>\n",
       "<text text-anchor=\"middle\" x=\"151\" y=\"-8.6478\" font-family=\"Times,serif\" font-size=\"12.00\" fill=\"#000000\">(◻ [0, inf]( x &lt;= 1.0 )) ∧ (◻ [0, inf]( w &lt;= 0.9 ))</text>\n",
       "</g>\n",
       "<!-- 4879382672 -->\n",
       "<g id=\"node2\" class=\"node\">\n",
       "<title>4879382672</title>\n",
       "<polygon fill=\"#ffa500\" stroke=\"#000000\" points=\"141.338,-104.6204 22.662,-104.6204 22.662,-70.123 141.338,-70.123 141.338,-104.6204\"/>\n",
       "<text text-anchor=\"middle\" x=\"82\" y=\"-90.8956\" font-family=\"Times,serif\" font-size=\"12.00\" fill=\"#000000\">Always</text>\n",
       "<text text-anchor=\"middle\" x=\"82\" y=\"-78.8956\" font-family=\"Times,serif\" font-size=\"12.00\" fill=\"#000000\">◻ [0, inf]( x &lt;= 1.0 )</text>\n",
       "</g>\n",
       "<!-- 4879382672&#45;&gt;4879487504 -->\n",
       "<g id=\"edge1\" class=\"edge\">\n",
       "<title>4879382672&#45;&gt;4879487504</title>\n",
       "<path fill=\"none\" stroke=\"#000000\" d=\"M99.0562,-70.0071C107.4955,-61.4152 117.8246,-50.8993 127.0427,-41.5144\"/>\n",
       "<polygon fill=\"#000000\" stroke=\"#000000\" points=\"129.6295,-43.8756 134.14,-34.2888 124.6356,-38.9704 129.6295,-43.8756\"/>\n",
       "</g>\n",
       "<!-- 4879383888 -->\n",
       "<g id=\"node3\" class=\"node\">\n",
       "<title>4879383888</title>\n",
       "<polygon fill=\"#ffa500\" stroke=\"#000000\" points=\"113.1533,-172.4956 50.8467,-172.4956 50.8467,-140.4956 113.1533,-140.4956 113.1533,-172.4956\"/>\n",
       "<text text-anchor=\"middle\" x=\"82\" y=\"-158.8956\" font-family=\"Times,serif\" font-size=\"12.00\" fill=\"#000000\">LessThan</text>\n",
       "<text text-anchor=\"middle\" x=\"82\" y=\"-146.8956\" font-family=\"Times,serif\" font-size=\"12.00\" fill=\"#000000\">x &lt;= 1.0</text>\n",
       "</g>\n",
       "<!-- 4879383888&#45;&gt;4879382672 -->\n",
       "<g id=\"edge2\" class=\"edge\">\n",
       "<title>4879383888&#45;&gt;4879382672</title>\n",
       "<path fill=\"none\" stroke=\"#000000\" d=\"M82,-140.4635C82,-132.8646 82,-123.569 82,-114.8919\"/>\n",
       "<polygon fill=\"#000000\" stroke=\"#000000\" points=\"85.5001,-114.7699 82,-104.77 78.5001,-114.77 85.5001,-114.7699\"/>\n",
       "</g>\n",
       "<!-- 4336083376 -->\n",
       "<g id=\"node4\" class=\"node\">\n",
       "<title>4336083376</title>\n",
       "<polygon fill=\"#87cefa\" stroke=\"#000000\" points=\"54,-228.4956 0,-228.4956 0,-208.4956 54,-208.4956 54,-228.4956\"/>\n",
       "<text text-anchor=\"middle\" x=\"27\" y=\"-214.8956\" font-family=\"Times,serif\" font-size=\"12.00\" fill=\"#000000\">x</text>\n",
       "</g>\n",
       "<!-- 4336083376&#45;&gt;4879383888 -->\n",
       "<g id=\"edge3\" class=\"edge\">\n",
       "<title>4336083376&#45;&gt;4879383888</title>\n",
       "<path fill=\"none\" stroke=\"#000000\" d=\"M36.0821,-208.2576C42.7564,-200.7339 52.1093,-190.1905 60.6338,-180.5812\"/>\n",
       "<polygon fill=\"#000000\" stroke=\"#000000\" points=\"63.5045,-182.6192 67.5224,-172.8158 58.268,-177.9739 63.5045,-182.6192\"/>\n",
       "</g>\n",
       "<!-- 4845052944 -->\n",
       "<g id=\"node5\" class=\"node\">\n",
       "<title>4845052944</title>\n",
       "<polygon fill=\"#98fb98\" stroke=\"#000000\" points=\"126,-228.4956 72,-228.4956 72,-208.4956 126,-208.4956 126,-228.4956\"/>\n",
       "<text text-anchor=\"middle\" x=\"99\" y=\"-214.8956\" font-family=\"Times,serif\" font-size=\"12.00\" fill=\"#000000\">1.0</text>\n",
       "</g>\n",
       "<!-- 4845052944&#45;&gt;4879383888 -->\n",
       "<g id=\"edge4\" class=\"edge\">\n",
       "<title>4845052944&#45;&gt;4879383888</title>\n",
       "<path fill=\"none\" stroke=\"#000000\" d=\"M96.1928,-208.2576C94.2743,-201.2605 91.6396,-191.6518 89.1608,-182.6115\"/>\n",
       "<polygon fill=\"#000000\" stroke=\"#000000\" points=\"92.4947,-181.5343 86.4749,-172.8158 85.7439,-183.3854 92.4947,-181.5343\"/>\n",
       "</g>\n",
       "<!-- 4879491024 -->\n",
       "<g id=\"node6\" class=\"node\">\n",
       "<title>4879491024</title>\n",
       "<polygon fill=\"#ffa500\" stroke=\"#000000\" points=\"280.5049,-104.6204 159.4951,-104.6204 159.4951,-70.123 280.5049,-70.123 280.5049,-104.6204\"/>\n",
       "<text text-anchor=\"middle\" x=\"220\" y=\"-90.8956\" font-family=\"Times,serif\" font-size=\"12.00\" fill=\"#000000\">Always</text>\n",
       "<text text-anchor=\"middle\" x=\"220\" y=\"-78.8956\" font-family=\"Times,serif\" font-size=\"12.00\" fill=\"#000000\">◻ [0, inf]( w &lt;= 0.9 )</text>\n",
       "</g>\n",
       "<!-- 4879491024&#45;&gt;4879487504 -->\n",
       "<g id=\"edge5\" class=\"edge\">\n",
       "<title>4879491024&#45;&gt;4879487504</title>\n",
       "<path fill=\"none\" stroke=\"#000000\" d=\"M202.9438,-70.0071C194.5045,-61.4152 184.1754,-50.8993 174.9573,-41.5144\"/>\n",
       "<polygon fill=\"#000000\" stroke=\"#000000\" points=\"177.3644,-38.9704 167.86,-34.2888 172.3705,-43.8756 177.3644,-38.9704\"/>\n",
       "</g>\n",
       "<!-- 4588179216 -->\n",
       "<g id=\"node7\" class=\"node\">\n",
       "<title>4588179216</title>\n",
       "<polygon fill=\"#ffa500\" stroke=\"#000000\" points=\"251.1533,-172.4956 188.8467,-172.4956 188.8467,-140.4956 251.1533,-140.4956 251.1533,-172.4956\"/>\n",
       "<text text-anchor=\"middle\" x=\"220\" y=\"-158.8956\" font-family=\"Times,serif\" font-size=\"12.00\" fill=\"#000000\">LessThan</text>\n",
       "<text text-anchor=\"middle\" x=\"220\" y=\"-146.8956\" font-family=\"Times,serif\" font-size=\"12.00\" fill=\"#000000\">w &lt;= 0.9</text>\n",
       "</g>\n",
       "<!-- 4588179216&#45;&gt;4879491024 -->\n",
       "<g id=\"edge6\" class=\"edge\">\n",
       "<title>4588179216&#45;&gt;4879491024</title>\n",
       "<path fill=\"none\" stroke=\"#000000\" d=\"M220,-140.4635C220,-132.8646 220,-123.569 220,-114.8919\"/>\n",
       "<polygon fill=\"#000000\" stroke=\"#000000\" points=\"223.5001,-114.7699 220,-104.77 216.5001,-114.77 223.5001,-114.7699\"/>\n",
       "</g>\n",
       "<!-- 4336931504 -->\n",
       "<g id=\"node8\" class=\"node\">\n",
       "<title>4336931504</title>\n",
       "<polygon fill=\"#87cefa\" stroke=\"#000000\" points=\"231,-228.4956 177,-228.4956 177,-208.4956 231,-208.4956 231,-228.4956\"/>\n",
       "<text text-anchor=\"middle\" x=\"204\" y=\"-214.8956\" font-family=\"Times,serif\" font-size=\"12.00\" fill=\"#000000\">w</text>\n",
       "</g>\n",
       "<!-- 4336931504&#45;&gt;4588179216 -->\n",
       "<g id=\"edge7\" class=\"edge\">\n",
       "<title>4336931504&#45;&gt;4588179216</title>\n",
       "<path fill=\"none\" stroke=\"#000000\" d=\"M206.6421,-208.2576C208.4478,-201.2605 210.9274,-191.6518 213.2604,-182.6115\"/>\n",
       "<polygon fill=\"#000000\" stroke=\"#000000\" points=\"216.6785,-183.3731 215.7883,-172.8158 209.9005,-181.624 216.6785,-183.3731\"/>\n",
       "</g>\n",
       "<!-- 4844992384 -->\n",
       "<g id=\"node9\" class=\"node\">\n",
       "<title>4844992384</title>\n",
       "<polygon fill=\"#98fb98\" stroke=\"#000000\" points=\"303,-228.4956 249,-228.4956 249,-208.4956 303,-208.4956 303,-228.4956\"/>\n",
       "<text text-anchor=\"middle\" x=\"276\" y=\"-214.8956\" font-family=\"Times,serif\" font-size=\"12.00\" fill=\"#000000\">0.9</text>\n",
       "</g>\n",
       "<!-- 4844992384&#45;&gt;4588179216 -->\n",
       "<g id=\"edge8\" class=\"edge\">\n",
       "<title>4844992384&#45;&gt;4588179216</title>\n",
       "<path fill=\"none\" stroke=\"#000000\" d=\"M266.7527,-208.2576C259.8892,-200.6586 250.2434,-189.9794 241.4946,-180.2932\"/>\n",
       "<polygon fill=\"#000000\" stroke=\"#000000\" points=\"244.0411,-177.8908 234.7408,-172.8158 238.8463,-182.5828 244.0411,-177.8908\"/>\n",
       "</g>\n",
       "</g>\n",
       "</svg>\n"
      ],
      "text/plain": [
       "<graphviz.dot.Digraph at 0x122d71ad0>"
      ]
     },
     "execution_count": 6,
     "metadata": {},
     "output_type": "execute_result"
    }
   ],
   "source": [
    "ϕ1 = stlcg.LessThan(name='x', val=c)\n",
    "ϕ2 = stlcg.GreaterThan(name='w', val=d)\n",
    "ϕ3 = stlcg.LessThan(name='w', val=d)\n",
    "ϕ = stlcg.Always(subformula=ϕ1)\n",
    "ψ = stlcg.Always(subformula=ϕ3)\n",
    "formula = stlcg.And(subformula1=ϕ, subformula2=ψ)\n",
    "print(formula)\n",
    "viz.make_stl_graph(formula)"
   ]
  },
  {
   "cell_type": "markdown",
   "metadata": {},
   "source": [
    "### Another way (preferred way) is to use the math operators which have been overloaded\n",
    "#### (less than, greater than, equal, not, and, or)\n",
    "#### Still need to use the Always and Or constructors explicitly"
   ]
  },
  {
   "cell_type": "code",
   "execution_count": 7,
   "metadata": {},
   "outputs": [],
   "source": [
    "x_exp = Expression('x', x)    # The first argument is the name of the variable, the second argument is the numerical value\n",
    "w_exp = Expression('w', w)\n",
    "c_exp = Expression(c)         # If the variable is a parameter of the STL, then input the actual value\n",
    "d_exp = Expression(d)"
   ]
  },
  {
   "cell_type": "code",
   "execution_count": 8,
   "metadata": {},
   "outputs": [
    {
     "name": "stdout",
     "output_type": "stream",
     "text": [
      "(◻ [0, inf]( x <= 1.0 )) ∧ (◻ [0, inf]( w <= 0.9 ))\n"
     ]
    },
    {
     "data": {
      "image/svg+xml": [
       "<?xml version=\"1.0\" encoding=\"UTF-8\" standalone=\"no\"?>\n",
       "<!DOCTYPE svg PUBLIC \"-//W3C//DTD SVG 1.1//EN\"\n",
       " \"http://www.w3.org/Graphics/SVG/1.1/DTD/svg11.dtd\">\n",
       "<!-- Generated by graphviz version 2.40.1 (20161225.0304)\n",
       " -->\n",
       "<!-- Title: %3 Pages: 1 -->\n",
       "<svg width=\"311pt\" height=\"236pt\"\n",
       " viewBox=\"0.00 0.00 311.00 236.50\" xmlns=\"http://www.w3.org/2000/svg\" xmlns:xlink=\"http://www.w3.org/1999/xlink\">\n",
       "<g id=\"graph0\" class=\"graph\" transform=\"scale(1 1) rotate(0) translate(4 232.4956)\">\n",
       "<title>%3</title>\n",
       "<polygon fill=\"#ffffff\" stroke=\"transparent\" points=\"-4,4 -4,-232.4956 307,-232.4956 307,4 -4,4\"/>\n",
       "<!-- 4879541136 -->\n",
       "<g id=\"node1\" class=\"node\">\n",
       "<title>4879541136</title>\n",
       "<polygon fill=\"#ffa500\" stroke=\"#000000\" points=\"277.5629,-34.3726 24.4371,-34.3726 24.4371,.1248 277.5629,.1248 277.5629,-34.3726\"/>\n",
       "<text text-anchor=\"middle\" x=\"151\" y=\"-20.6478\" font-family=\"Times,serif\" font-size=\"12.00\" fill=\"#000000\">And</text>\n",
       "<text text-anchor=\"middle\" x=\"151\" y=\"-8.6478\" font-family=\"Times,serif\" font-size=\"12.00\" fill=\"#000000\">(◻ [0, inf]( x &lt;= 1.0 )) ∧ (◻ [0, inf]( w &lt;= 0.9 ))</text>\n",
       "</g>\n",
       "<!-- 4879383824 -->\n",
       "<g id=\"node2\" class=\"node\">\n",
       "<title>4879383824</title>\n",
       "<polygon fill=\"#ffa500\" stroke=\"#000000\" points=\"141.338,-104.6204 22.662,-104.6204 22.662,-70.123 141.338,-70.123 141.338,-104.6204\"/>\n",
       "<text text-anchor=\"middle\" x=\"82\" y=\"-90.8956\" font-family=\"Times,serif\" font-size=\"12.00\" fill=\"#000000\">Always</text>\n",
       "<text text-anchor=\"middle\" x=\"82\" y=\"-78.8956\" font-family=\"Times,serif\" font-size=\"12.00\" fill=\"#000000\">◻ [0, inf]( x &lt;= 1.0 )</text>\n",
       "</g>\n",
       "<!-- 4879383824&#45;&gt;4879541136 -->\n",
       "<g id=\"edge1\" class=\"edge\">\n",
       "<title>4879383824&#45;&gt;4879541136</title>\n",
       "<path fill=\"none\" stroke=\"#000000\" d=\"M99.0562,-70.0071C107.4955,-61.4152 117.8246,-50.8993 127.0427,-41.5144\"/>\n",
       "<polygon fill=\"#000000\" stroke=\"#000000\" points=\"129.6295,-43.8756 134.14,-34.2888 124.6356,-38.9704 129.6295,-43.8756\"/>\n",
       "</g>\n",
       "<!-- 4879543440 -->\n",
       "<g id=\"node3\" class=\"node\">\n",
       "<title>4879543440</title>\n",
       "<polygon fill=\"#ffa500\" stroke=\"#000000\" points=\"113.1533,-172.4956 50.8467,-172.4956 50.8467,-140.4956 113.1533,-140.4956 113.1533,-172.4956\"/>\n",
       "<text text-anchor=\"middle\" x=\"82\" y=\"-158.8956\" font-family=\"Times,serif\" font-size=\"12.00\" fill=\"#000000\">LessThan</text>\n",
       "<text text-anchor=\"middle\" x=\"82\" y=\"-146.8956\" font-family=\"Times,serif\" font-size=\"12.00\" fill=\"#000000\">x &lt;= 1.0</text>\n",
       "</g>\n",
       "<!-- 4879543440&#45;&gt;4879383824 -->\n",
       "<g id=\"edge2\" class=\"edge\">\n",
       "<title>4879543440&#45;&gt;4879383824</title>\n",
       "<path fill=\"none\" stroke=\"#000000\" d=\"M82,-140.4635C82,-132.8646 82,-123.569 82,-114.8919\"/>\n",
       "<polygon fill=\"#000000\" stroke=\"#000000\" points=\"85.5001,-114.7699 82,-104.77 78.5001,-114.77 85.5001,-114.7699\"/>\n",
       "</g>\n",
       "<!-- 4336083376 -->\n",
       "<g id=\"node4\" class=\"node\">\n",
       "<title>4336083376</title>\n",
       "<polygon fill=\"#87cefa\" stroke=\"#000000\" points=\"54,-228.4956 0,-228.4956 0,-208.4956 54,-208.4956 54,-228.4956\"/>\n",
       "<text text-anchor=\"middle\" x=\"27\" y=\"-214.8956\" font-family=\"Times,serif\" font-size=\"12.00\" fill=\"#000000\">x</text>\n",
       "</g>\n",
       "<!-- 4336083376&#45;&gt;4879543440 -->\n",
       "<g id=\"edge3\" class=\"edge\">\n",
       "<title>4336083376&#45;&gt;4879543440</title>\n",
       "<path fill=\"none\" stroke=\"#000000\" d=\"M36.0821,-208.2576C42.7564,-200.7339 52.1093,-190.1905 60.6338,-180.5812\"/>\n",
       "<polygon fill=\"#000000\" stroke=\"#000000\" points=\"63.5045,-182.6192 67.5224,-172.8158 58.268,-177.9739 63.5045,-182.6192\"/>\n",
       "</g>\n",
       "<!-- 4845052944 -->\n",
       "<g id=\"node5\" class=\"node\">\n",
       "<title>4845052944</title>\n",
       "<polygon fill=\"#98fb98\" stroke=\"#000000\" points=\"126,-228.4956 72,-228.4956 72,-208.4956 126,-208.4956 126,-228.4956\"/>\n",
       "<text text-anchor=\"middle\" x=\"99\" y=\"-214.8956\" font-family=\"Times,serif\" font-size=\"12.00\" fill=\"#000000\">1.0</text>\n",
       "</g>\n",
       "<!-- 4845052944&#45;&gt;4879543440 -->\n",
       "<g id=\"edge4\" class=\"edge\">\n",
       "<title>4845052944&#45;&gt;4879543440</title>\n",
       "<path fill=\"none\" stroke=\"#000000\" d=\"M96.1928,-208.2576C94.2743,-201.2605 91.6396,-191.6518 89.1608,-182.6115\"/>\n",
       "<polygon fill=\"#000000\" stroke=\"#000000\" points=\"92.4947,-181.5343 86.4749,-172.8158 85.7439,-183.3854 92.4947,-181.5343\"/>\n",
       "</g>\n",
       "<!-- 4879544144 -->\n",
       "<g id=\"node6\" class=\"node\">\n",
       "<title>4879544144</title>\n",
       "<polygon fill=\"#ffa500\" stroke=\"#000000\" points=\"280.5049,-104.6204 159.4951,-104.6204 159.4951,-70.123 280.5049,-70.123 280.5049,-104.6204\"/>\n",
       "<text text-anchor=\"middle\" x=\"220\" y=\"-90.8956\" font-family=\"Times,serif\" font-size=\"12.00\" fill=\"#000000\">Always</text>\n",
       "<text text-anchor=\"middle\" x=\"220\" y=\"-78.8956\" font-family=\"Times,serif\" font-size=\"12.00\" fill=\"#000000\">◻ [0, inf]( w &lt;= 0.9 )</text>\n",
       "</g>\n",
       "<!-- 4879544144&#45;&gt;4879541136 -->\n",
       "<g id=\"edge5\" class=\"edge\">\n",
       "<title>4879544144&#45;&gt;4879541136</title>\n",
       "<path fill=\"none\" stroke=\"#000000\" d=\"M202.9438,-70.0071C194.5045,-61.4152 184.1754,-50.8993 174.9573,-41.5144\"/>\n",
       "<polygon fill=\"#000000\" stroke=\"#000000\" points=\"177.3644,-38.9704 167.86,-34.2888 172.3705,-43.8756 177.3644,-38.9704\"/>\n",
       "</g>\n",
       "<!-- 4879541328 -->\n",
       "<g id=\"node7\" class=\"node\">\n",
       "<title>4879541328</title>\n",
       "<polygon fill=\"#ffa500\" stroke=\"#000000\" points=\"251.1533,-172.4956 188.8467,-172.4956 188.8467,-140.4956 251.1533,-140.4956 251.1533,-172.4956\"/>\n",
       "<text text-anchor=\"middle\" x=\"220\" y=\"-158.8956\" font-family=\"Times,serif\" font-size=\"12.00\" fill=\"#000000\">LessThan</text>\n",
       "<text text-anchor=\"middle\" x=\"220\" y=\"-146.8956\" font-family=\"Times,serif\" font-size=\"12.00\" fill=\"#000000\">w &lt;= 0.9</text>\n",
       "</g>\n",
       "<!-- 4879541328&#45;&gt;4879544144 -->\n",
       "<g id=\"edge6\" class=\"edge\">\n",
       "<title>4879541328&#45;&gt;4879544144</title>\n",
       "<path fill=\"none\" stroke=\"#000000\" d=\"M220,-140.4635C220,-132.8646 220,-123.569 220,-114.8919\"/>\n",
       "<polygon fill=\"#000000\" stroke=\"#000000\" points=\"223.5001,-114.7699 220,-104.77 216.5001,-114.77 223.5001,-114.7699\"/>\n",
       "</g>\n",
       "<!-- 4336931504 -->\n",
       "<g id=\"node8\" class=\"node\">\n",
       "<title>4336931504</title>\n",
       "<polygon fill=\"#87cefa\" stroke=\"#000000\" points=\"231,-228.4956 177,-228.4956 177,-208.4956 231,-208.4956 231,-228.4956\"/>\n",
       "<text text-anchor=\"middle\" x=\"204\" y=\"-214.8956\" font-family=\"Times,serif\" font-size=\"12.00\" fill=\"#000000\">w</text>\n",
       "</g>\n",
       "<!-- 4336931504&#45;&gt;4879541328 -->\n",
       "<g id=\"edge7\" class=\"edge\">\n",
       "<title>4336931504&#45;&gt;4879541328</title>\n",
       "<path fill=\"none\" stroke=\"#000000\" d=\"M206.6421,-208.2576C208.4478,-201.2605 210.9274,-191.6518 213.2604,-182.6115\"/>\n",
       "<polygon fill=\"#000000\" stroke=\"#000000\" points=\"216.6785,-183.3731 215.7883,-172.8158 209.9005,-181.624 216.6785,-183.3731\"/>\n",
       "</g>\n",
       "<!-- 4844992384 -->\n",
       "<g id=\"node9\" class=\"node\">\n",
       "<title>4844992384</title>\n",
       "<polygon fill=\"#98fb98\" stroke=\"#000000\" points=\"303,-228.4956 249,-228.4956 249,-208.4956 303,-208.4956 303,-228.4956\"/>\n",
       "<text text-anchor=\"middle\" x=\"276\" y=\"-214.8956\" font-family=\"Times,serif\" font-size=\"12.00\" fill=\"#000000\">0.9</text>\n",
       "</g>\n",
       "<!-- 4844992384&#45;&gt;4879541328 -->\n",
       "<g id=\"edge8\" class=\"edge\">\n",
       "<title>4844992384&#45;&gt;4879541328</title>\n",
       "<path fill=\"none\" stroke=\"#000000\" d=\"M266.7527,-208.2576C259.8892,-200.6586 250.2434,-189.9794 241.4946,-180.2932\"/>\n",
       "<polygon fill=\"#000000\" stroke=\"#000000\" points=\"244.0411,-177.8908 234.7408,-172.8158 238.8463,-182.5828 244.0411,-177.8908\"/>\n",
       "</g>\n",
       "</g>\n",
       "</svg>\n"
      ],
      "text/plain": [
       "<graphviz.dot.Digraph at 0x122d712d0>"
      ]
     },
     "execution_count": 8,
     "metadata": {},
     "output_type": "execute_result"
    }
   ],
   "source": [
    "ϕ1 = x_exp <= c_exp\n",
    "ϕ2 = w_exp >= d_exp \n",
    "ϕ3 = w_exp <= d_exp\n",
    "ϕ = stlcg.Always(subformula=ϕ1)\n",
    "ψ = stlcg.Always(subformula=ϕ3)\n",
    "formula = stlcg.And(subformula1=ϕ, subformula2=ψ)\n",
    "print(formula)\n",
    "viz.make_stl_graph(formula)"
   ]
  },
  {
   "cell_type": "markdown",
   "metadata": {},
   "source": [
    "## Evaluating the formula\n",
    "### You need to feed in the necessary inputs. If the formula requires multiple inputs, it takes in a tuple of length 2 where each element in the tuple is the input to each subformula, in the order they are created. If the formula requires more than two inputs, then the tuple contains a tuple, eg. (x, (y, z)). The grouping of the input traces depend on how the formula was created.\n",
    "\n",
    "#### the inputs can be made up of tensors, or Expression objects."
   ]
  },
  {
   "cell_type": "code",
   "execution_count": 9,
   "metadata": {},
   "outputs": [
    {
     "name": "stdout",
     "output_type": "stream",
     "text": [
      "(w >= 0.9) ∧ ((◻ [0, inf]( x <= 1.0 )) ∧ (◻ [0, inf]( w <= 0.9 )))\n"
     ]
    },
    {
     "data": {
      "image/svg+xml": [
       "<?xml version=\"1.0\" encoding=\"UTF-8\" standalone=\"no\"?>\n",
       "<!DOCTYPE svg PUBLIC \"-//W3C//DTD SVG 1.1//EN\"\n",
       " \"http://www.w3.org/Graphics/SVG/1.1/DTD/svg11.dtd\">\n",
       "<!-- Generated by graphviz version 2.40.1 (20161225.0304)\n",
       " -->\n",
       "<!-- Title: %3 Pages: 1 -->\n",
       "<svg width=\"380pt\" height=\"307pt\"\n",
       " viewBox=\"0.00 0.00 380.41 306.74\" xmlns=\"http://www.w3.org/2000/svg\" xmlns:xlink=\"http://www.w3.org/1999/xlink\">\n",
       "<g id=\"graph0\" class=\"graph\" transform=\"scale(1 1) rotate(0) translate(4 302.7434)\">\n",
       "<title>%3</title>\n",
       "<polygon fill=\"#ffffff\" stroke=\"transparent\" points=\"-4,4 -4,-302.7434 376.4111,-302.7434 376.4111,4 -4,4\"/>\n",
       "<!-- 4879488784 -->\n",
       "<g id=\"node1\" class=\"node\">\n",
       "<title>4879488784</title>\n",
       "<polygon fill=\"#ffa500\" stroke=\"#000000\" points=\"325.9766,-34.3726 .0078,-34.3726 .0078,.1248 325.9766,.1248 325.9766,-34.3726\"/>\n",
       "<text text-anchor=\"middle\" x=\"162.9922\" y=\"-20.6478\" font-family=\"Times,serif\" font-size=\"12.00\" fill=\"#000000\">And</text>\n",
       "<text text-anchor=\"middle\" x=\"162.9922\" y=\"-8.6478\" font-family=\"Times,serif\" font-size=\"12.00\" fill=\"#000000\">(w &gt;= 0.9) ∧ ((◻ [0, inf]( x &lt;= 1.0 )) ∧ (◻ [0, inf]( w &lt;= 0.9 )))</text>\n",
       "</g>\n",
       "<!-- 4879543952 -->\n",
       "<g id=\"node2\" class=\"node\">\n",
       "<title>4879543952</title>\n",
       "<polygon fill=\"#ffa500\" stroke=\"#000000\" points=\"125.1201,-242.7434 48.8643,-242.7434 48.8643,-210.7434 125.1201,-210.7434 125.1201,-242.7434\"/>\n",
       "<text text-anchor=\"middle\" x=\"86.9922\" y=\"-229.1434\" font-family=\"Times,serif\" font-size=\"12.00\" fill=\"#000000\">GreaterThan</text>\n",
       "<text text-anchor=\"middle\" x=\"86.9922\" y=\"-217.1434\" font-family=\"Times,serif\" font-size=\"12.00\" fill=\"#000000\">w &gt;= 0.9</text>\n",
       "</g>\n",
       "<!-- 4879543952&#45;&gt;4879488784 -->\n",
       "<g id=\"edge1\" class=\"edge\">\n",
       "<title>4879543952&#45;&gt;4879488784</title>\n",
       "<path fill=\"none\" stroke=\"#000000\" d=\"M85.2919,-210.5982C82.9147,-180.989 81.2477,-116.7748 104.9922,-70.2478 110.7143,-59.0354 119.8365,-49.0094 129.1681,-40.7693\"/>\n",
       "<polygon fill=\"#000000\" stroke=\"#000000\" points=\"131.5261,-43.3607 136.9857,-34.2808 127.0555,-37.9742 131.5261,-43.3607\"/>\n",
       "</g>\n",
       "<!-- 4336931504 -->\n",
       "<g id=\"node3\" class=\"node\">\n",
       "<title>4336931504</title>\n",
       "<polygon fill=\"#87cefa\" stroke=\"#000000\" points=\"120.9922,-298.7434 66.9922,-298.7434 66.9922,-278.7434 120.9922,-278.7434 120.9922,-298.7434\"/>\n",
       "<text text-anchor=\"middle\" x=\"93.9922\" y=\"-285.1434\" font-family=\"Times,serif\" font-size=\"12.00\" fill=\"#000000\">w</text>\n",
       "</g>\n",
       "<!-- 4336931504&#45;&gt;4879543952 -->\n",
       "<g id=\"edge2\" class=\"edge\">\n",
       "<title>4336931504&#45;&gt;4879543952</title>\n",
       "<path fill=\"none\" stroke=\"#000000\" d=\"M92.8363,-278.5054C92.0548,-271.5836 90.9847,-262.1059 89.9737,-253.1511\"/>\n",
       "<polygon fill=\"#000000\" stroke=\"#000000\" points=\"93.4347,-252.6077 88.8348,-243.0636 86.4789,-253.3931 93.4347,-252.6077\"/>\n",
       "</g>\n",
       "<!-- 4879541328 -->\n",
       "<g id=\"node11\" class=\"node\">\n",
       "<title>4879541328</title>\n",
       "<polygon fill=\"#ffa500\" stroke=\"#000000\" points=\"206.1455,-242.7434 143.8389,-242.7434 143.8389,-210.7434 206.1455,-210.7434 206.1455,-242.7434\"/>\n",
       "<text text-anchor=\"middle\" x=\"174.9922\" y=\"-229.1434\" font-family=\"Times,serif\" font-size=\"12.00\" fill=\"#000000\">LessThan</text>\n",
       "<text text-anchor=\"middle\" x=\"174.9922\" y=\"-217.1434\" font-family=\"Times,serif\" font-size=\"12.00\" fill=\"#000000\">w &lt;= 0.9</text>\n",
       "</g>\n",
       "<!-- 4336931504&#45;&gt;4879541328 -->\n",
       "<g id=\"edge11\" class=\"edge\">\n",
       "<title>4336931504&#45;&gt;4879541328</title>\n",
       "<path fill=\"none\" stroke=\"#000000\" d=\"M107.3677,-278.5054C117.7622,-270.5491 132.5685,-259.2159 145.6781,-249.1814\"/>\n",
       "<polygon fill=\"#000000\" stroke=\"#000000\" points=\"148.1711,-251.6808 153.9845,-242.8234 143.9163,-246.1223 148.1711,-251.6808\"/>\n",
       "</g>\n",
       "<!-- 4844992384 -->\n",
       "<g id=\"node4\" class=\"node\">\n",
       "<title>4844992384</title>\n",
       "<polygon fill=\"#98fb98\" stroke=\"#000000\" points=\"197.9922,-298.7434 143.9922,-298.7434 143.9922,-278.7434 197.9922,-278.7434 197.9922,-298.7434\"/>\n",
       "<text text-anchor=\"middle\" x=\"170.9922\" y=\"-285.1434\" font-family=\"Times,serif\" font-size=\"12.00\" fill=\"#000000\">0.9</text>\n",
       "</g>\n",
       "<!-- 4844992384&#45;&gt;4879543952 -->\n",
       "<g id=\"edge3\" class=\"edge\">\n",
       "<title>4844992384&#45;&gt;4879543952</title>\n",
       "<path fill=\"none\" stroke=\"#000000\" d=\"M157.1213,-278.5054C146.2391,-270.4733 130.6943,-258.9997 117.0041,-248.895\"/>\n",
       "<polygon fill=\"#000000\" stroke=\"#000000\" points=\"118.9022,-245.9459 108.778,-242.8234 114.7452,-251.5779 118.9022,-245.9459\"/>\n",
       "</g>\n",
       "<!-- 4844992384&#45;&gt;4879541328 -->\n",
       "<g id=\"edge12\" class=\"edge\">\n",
       "<title>4844992384&#45;&gt;4879541328</title>\n",
       "<path fill=\"none\" stroke=\"#000000\" d=\"M171.6527,-278.5054C172.0993,-271.5836 172.7107,-262.1059 173.2885,-253.1511\"/>\n",
       "<polygon fill=\"#000000\" stroke=\"#000000\" points=\"176.7881,-253.2682 173.9393,-243.0636 169.8026,-252.8175 176.7881,-253.2682\"/>\n",
       "</g>\n",
       "<!-- 4879541136 -->\n",
       "<g id=\"node5\" class=\"node\">\n",
       "<title>4879541136</title>\n",
       "<polygon fill=\"#ffa500\" stroke=\"#000000\" points=\"367.5551,-104.6204 114.4293,-104.6204 114.4293,-70.123 367.5551,-70.123 367.5551,-104.6204\"/>\n",
       "<text text-anchor=\"middle\" x=\"240.9922\" y=\"-90.8956\" font-family=\"Times,serif\" font-size=\"12.00\" fill=\"#000000\">And</text>\n",
       "<text text-anchor=\"middle\" x=\"240.9922\" y=\"-78.8956\" font-family=\"Times,serif\" font-size=\"12.00\" fill=\"#000000\">(◻ [0, inf]( x &lt;= 1.0 )) ∧ (◻ [0, inf]( w &lt;= 0.9 ))</text>\n",
       "</g>\n",
       "<!-- 4879541136&#45;&gt;4879488784 -->\n",
       "<g id=\"edge4\" class=\"edge\">\n",
       "<title>4879541136&#45;&gt;4879488784</title>\n",
       "<path fill=\"none\" stroke=\"#000000\" d=\"M221.7113,-70.0071C212.0768,-61.3301 200.2634,-50.6909 189.7652,-41.236\"/>\n",
       "<polygon fill=\"#000000\" stroke=\"#000000\" points=\"191.8243,-38.3802 182.0513,-34.2888 187.1397,-43.5817 191.8243,-38.3802\"/>\n",
       "</g>\n",
       "<!-- 4879383824 -->\n",
       "<g id=\"node6\" class=\"node\">\n",
       "<title>4879383824</title>\n",
       "<polygon fill=\"#ffa500\" stroke=\"#000000\" points=\"372.3302,-174.8682 253.6542,-174.8682 253.6542,-140.3708 372.3302,-140.3708 372.3302,-174.8682\"/>\n",
       "<text text-anchor=\"middle\" x=\"312.9922\" y=\"-161.1434\" font-family=\"Times,serif\" font-size=\"12.00\" fill=\"#000000\">Always</text>\n",
       "<text text-anchor=\"middle\" x=\"312.9922\" y=\"-149.1434\" font-family=\"Times,serif\" font-size=\"12.00\" fill=\"#000000\">◻ [0, inf]( x &lt;= 1.0 )</text>\n",
       "</g>\n",
       "<!-- 4879383824&#45;&gt;4879541136 -->\n",
       "<g id=\"edge5\" class=\"edge\">\n",
       "<title>4879383824&#45;&gt;4879541136</title>\n",
       "<path fill=\"none\" stroke=\"#000000\" d=\"M295.1944,-140.2549C286.3882,-131.663 275.6101,-121.1471 265.9911,-111.7622\"/>\n",
       "<polygon fill=\"#000000\" stroke=\"#000000\" points=\"268.1871,-109.0149 258.5852,-104.5366 263.2987,-114.0252 268.1871,-109.0149\"/>\n",
       "</g>\n",
       "<!-- 4879543440 -->\n",
       "<g id=\"node7\" class=\"node\">\n",
       "<title>4879543440</title>\n",
       "<polygon fill=\"#ffa500\" stroke=\"#000000\" points=\"344.1455,-242.7434 281.8389,-242.7434 281.8389,-210.7434 344.1455,-210.7434 344.1455,-242.7434\"/>\n",
       "<text text-anchor=\"middle\" x=\"312.9922\" y=\"-229.1434\" font-family=\"Times,serif\" font-size=\"12.00\" fill=\"#000000\">LessThan</text>\n",
       "<text text-anchor=\"middle\" x=\"312.9922\" y=\"-217.1434\" font-family=\"Times,serif\" font-size=\"12.00\" fill=\"#000000\">x &lt;= 1.0</text>\n",
       "</g>\n",
       "<!-- 4879543440&#45;&gt;4879383824 -->\n",
       "<g id=\"edge6\" class=\"edge\">\n",
       "<title>4879543440&#45;&gt;4879383824</title>\n",
       "<path fill=\"none\" stroke=\"#000000\" d=\"M312.9922,-210.7113C312.9922,-203.1124 312.9922,-193.8168 312.9922,-185.1397\"/>\n",
       "<polygon fill=\"#000000\" stroke=\"#000000\" points=\"316.4923,-185.0177 312.9922,-175.0178 309.4923,-185.0178 316.4923,-185.0177\"/>\n",
       "</g>\n",
       "<!-- 4336083376 -->\n",
       "<g id=\"node8\" class=\"node\">\n",
       "<title>4336083376</title>\n",
       "<polygon fill=\"#87cefa\" stroke=\"#000000\" points=\"271.9922,-298.7434 217.9922,-298.7434 217.9922,-278.7434 271.9922,-278.7434 271.9922,-298.7434\"/>\n",
       "<text text-anchor=\"middle\" x=\"244.9922\" y=\"-285.1434\" font-family=\"Times,serif\" font-size=\"12.00\" fill=\"#000000\">x</text>\n",
       "</g>\n",
       "<!-- 4336083376&#45;&gt;4879543440 -->\n",
       "<g id=\"edge7\" class=\"edge\">\n",
       "<title>4336083376&#45;&gt;4879543440</title>\n",
       "<path fill=\"none\" stroke=\"#000000\" d=\"M256.221,-278.5054C264.7811,-270.7006 276.9051,-259.6464 287.7524,-249.7562\"/>\n",
       "<polygon fill=\"#000000\" stroke=\"#000000\" points=\"290.3247,-252.1473 295.3561,-242.8234 285.6084,-246.9746 290.3247,-252.1473\"/>\n",
       "</g>\n",
       "<!-- 4845052944 -->\n",
       "<g id=\"node9\" class=\"node\">\n",
       "<title>4845052944</title>\n",
       "<polygon fill=\"#98fb98\" stroke=\"#000000\" points=\"343.9922,-298.7434 289.9922,-298.7434 289.9922,-278.7434 343.9922,-278.7434 343.9922,-298.7434\"/>\n",
       "<text text-anchor=\"middle\" x=\"316.9922\" y=\"-285.1434\" font-family=\"Times,serif\" font-size=\"12.00\" fill=\"#000000\">1.0</text>\n",
       "</g>\n",
       "<!-- 4845052944&#45;&gt;4879543440 -->\n",
       "<g id=\"edge8\" class=\"edge\">\n",
       "<title>4845052944&#45;&gt;4879543440</title>\n",
       "<path fill=\"none\" stroke=\"#000000\" d=\"M316.3317,-278.5054C315.8851,-271.5836 315.2737,-262.1059 314.6959,-253.1511\"/>\n",
       "<polygon fill=\"#000000\" stroke=\"#000000\" points=\"318.1818,-252.8175 314.0451,-243.0636 311.1963,-253.2682 318.1818,-252.8175\"/>\n",
       "</g>\n",
       "<!-- 4879544144 -->\n",
       "<g id=\"node10\" class=\"node\">\n",
       "<title>4879544144</title>\n",
       "<polygon fill=\"#ffa500\" stroke=\"#000000\" points=\"235.4971,-174.8682 114.4873,-174.8682 114.4873,-140.3708 235.4971,-140.3708 235.4971,-174.8682\"/>\n",
       "<text text-anchor=\"middle\" x=\"174.9922\" y=\"-161.1434\" font-family=\"Times,serif\" font-size=\"12.00\" fill=\"#000000\">Always</text>\n",
       "<text text-anchor=\"middle\" x=\"174.9922\" y=\"-149.1434\" font-family=\"Times,serif\" font-size=\"12.00\" fill=\"#000000\">◻ [0, inf]( w &lt;= 0.9 )</text>\n",
       "</g>\n",
       "<!-- 4879544144&#45;&gt;4879541136 -->\n",
       "<g id=\"edge9\" class=\"edge\">\n",
       "<title>4879544144&#45;&gt;4879541136</title>\n",
       "<path fill=\"none\" stroke=\"#000000\" d=\"M191.3068,-140.2549C199.2992,-131.748 209.0637,-121.3551 217.8143,-112.0413\"/>\n",
       "<polygon fill=\"#000000\" stroke=\"#000000\" points=\"220.5687,-114.2212 224.8653,-104.5366 215.4671,-109.428 220.5687,-114.2212\"/>\n",
       "</g>\n",
       "<!-- 4879541328&#45;&gt;4879544144 -->\n",
       "<g id=\"edge10\" class=\"edge\">\n",
       "<title>4879541328&#45;&gt;4879544144</title>\n",
       "<path fill=\"none\" stroke=\"#000000\" d=\"M174.9922,-210.7113C174.9922,-203.1124 174.9922,-193.8168 174.9922,-185.1397\"/>\n",
       "<polygon fill=\"#000000\" stroke=\"#000000\" points=\"178.4923,-185.0177 174.9922,-175.0178 171.4923,-185.0178 178.4923,-185.0177\"/>\n",
       "</g>\n",
       "</g>\n",
       "</svg>\n"
      ],
      "text/plain": [
       "<graphviz.dot.Digraph at 0x122d71250>"
      ]
     },
     "execution_count": 9,
     "metadata": {},
     "output_type": "execute_result"
    }
   ],
   "source": [
    "formula2 = ϕ2 & formula\n",
    "print(formula2)\n",
    "viz.make_stl_graph(formula2)"
   ]
  },
  {
   "cell_type": "code",
   "execution_count": 10,
   "metadata": {},
   "outputs": [],
   "source": [
    "# any of the inputs will work\n",
    "inputs = (w, (x_exp, w_exp))\n",
    "# inputs = (w_exp, (x_exp, w_exp))\n",
    "# inputs = (w, (x, w))\n",
    "\n",
    "pscale = 1     # \"pscale\" is the scale used for evaluting predicates\n",
    "scale = -1     # \"scale\" is the scale used in the maxish/minish function. <0 defaults to the true min/max\n",
    "formula2(inputs, pscale=pscale, scale=scale);"
   ]
  },
  {
   "cell_type": "markdown",
   "metadata": {},
   "source": [
    "# Testing grad functionality"
   ]
  },
  {
   "cell_type": "code",
   "execution_count": 10,
   "metadata": {},
   "outputs": [
    {
     "name": "stdout",
     "output_type": "stream",
     "text": [
      "◻ [0, inf]( x <= 1.0 )\n"
     ]
    },
    {
     "data": {
      "image/svg+xml": [
       "<?xml version=\"1.0\" encoding=\"UTF-8\" standalone=\"no\"?>\n",
       "<!DOCTYPE svg PUBLIC \"-//W3C//DTD SVG 1.1//EN\"\n",
       " \"http://www.w3.org/Graphics/SVG/1.1/DTD/svg11.dtd\">\n",
       "<!-- Generated by graphviz version 2.40.1 (20161225.0304)\n",
       " -->\n",
       "<!-- Title: %3 Pages: 1 -->\n",
       "<svg width=\"134pt\" height=\"166pt\"\n",
       " viewBox=\"0.00 0.00 134.00 166.25\" xmlns=\"http://www.w3.org/2000/svg\" xmlns:xlink=\"http://www.w3.org/1999/xlink\">\n",
       "<g id=\"graph0\" class=\"graph\" transform=\"scale(1 1) rotate(0) translate(4 162.2478)\">\n",
       "<title>%3</title>\n",
       "<polygon fill=\"#ffffff\" stroke=\"transparent\" points=\"-4,4 -4,-162.2478 130,-162.2478 130,4 -4,4\"/>\n",
       "<!-- 4880230224 -->\n",
       "<g id=\"node1\" class=\"node\">\n",
       "<title>4880230224</title>\n",
       "<polygon fill=\"#ffa500\" stroke=\"#000000\" points=\"122.338,-34.3726 3.662,-34.3726 3.662,.1248 122.338,.1248 122.338,-34.3726\"/>\n",
       "<text text-anchor=\"middle\" x=\"63\" y=\"-20.6478\" font-family=\"Times,serif\" font-size=\"12.00\" fill=\"#000000\">Always</text>\n",
       "<text text-anchor=\"middle\" x=\"63\" y=\"-8.6478\" font-family=\"Times,serif\" font-size=\"12.00\" fill=\"#000000\">◻ [0, inf]( x &lt;= 1.0 )</text>\n",
       "</g>\n",
       "<!-- 4587968336 -->\n",
       "<g id=\"node2\" class=\"node\">\n",
       "<title>4587968336</title>\n",
       "<polygon fill=\"#ffa500\" stroke=\"#000000\" points=\"94.1533,-102.2478 31.8467,-102.2478 31.8467,-70.2478 94.1533,-70.2478 94.1533,-102.2478\"/>\n",
       "<text text-anchor=\"middle\" x=\"63\" y=\"-88.6478\" font-family=\"Times,serif\" font-size=\"12.00\" fill=\"#000000\">LessThan</text>\n",
       "<text text-anchor=\"middle\" x=\"63\" y=\"-76.6478\" font-family=\"Times,serif\" font-size=\"12.00\" fill=\"#000000\">x &lt;= 1.0</text>\n",
       "</g>\n",
       "<!-- 4587968336&#45;&gt;4880230224 -->\n",
       "<g id=\"edge1\" class=\"edge\">\n",
       "<title>4587968336&#45;&gt;4880230224</title>\n",
       "<path fill=\"none\" stroke=\"#000000\" d=\"M63,-70.2156C63,-62.6168 63,-53.3212 63,-44.6441\"/>\n",
       "<polygon fill=\"#000000\" stroke=\"#000000\" points=\"66.5001,-44.5221 63,-34.5222 59.5001,-44.5222 66.5001,-44.5221\"/>\n",
       "</g>\n",
       "<!-- 4336083376 -->\n",
       "<g id=\"node3\" class=\"node\">\n",
       "<title>4336083376</title>\n",
       "<polygon fill=\"#87cefa\" stroke=\"#000000\" points=\"54,-158.2478 0,-158.2478 0,-138.2478 54,-138.2478 54,-158.2478\"/>\n",
       "<text text-anchor=\"middle\" x=\"27\" y=\"-144.6478\" font-family=\"Times,serif\" font-size=\"12.00\" fill=\"#000000\">x</text>\n",
       "</g>\n",
       "<!-- 4336083376&#45;&gt;4587968336 -->\n",
       "<g id=\"edge2\" class=\"edge\">\n",
       "<title>4336083376&#45;&gt;4587968336</title>\n",
       "<path fill=\"none\" stroke=\"#000000\" d=\"M32.9447,-138.0098C37.1385,-130.787 42.9483,-120.7814 48.3428,-111.4907\"/>\n",
       "<polygon fill=\"#000000\" stroke=\"#000000\" points=\"51.5291,-112.9734 53.5238,-102.568 45.4756,-109.4584 51.5291,-112.9734\"/>\n",
       "</g>\n",
       "<!-- 4845052944 -->\n",
       "<g id=\"node4\" class=\"node\">\n",
       "<title>4845052944</title>\n",
       "<polygon fill=\"#98fb98\" stroke=\"#000000\" points=\"126,-158.2478 72,-158.2478 72,-138.2478 126,-138.2478 126,-158.2478\"/>\n",
       "<text text-anchor=\"middle\" x=\"99\" y=\"-144.6478\" font-family=\"Times,serif\" font-size=\"12.00\" fill=\"#000000\">1.0</text>\n",
       "</g>\n",
       "<!-- 4845052944&#45;&gt;4587968336 -->\n",
       "<g id=\"edge3\" class=\"edge\">\n",
       "<title>4845052944&#45;&gt;4587968336</title>\n",
       "<path fill=\"none\" stroke=\"#000000\" d=\"M93.0553,-138.0098C88.8615,-130.787 83.0517,-120.7814 77.6572,-111.4907\"/>\n",
       "<polygon fill=\"#000000\" stroke=\"#000000\" points=\"80.5244,-109.4584 72.4762,-102.568 74.4709,-112.9734 80.5244,-109.4584\"/>\n",
       "</g>\n",
       "</g>\n",
       "</svg>\n"
      ],
      "text/plain": [
       "<graphviz.dot.Digraph at 0x122e26a50>"
      ]
     },
     "execution_count": 10,
     "metadata": {},
     "output_type": "execute_result"
    }
   ],
   "source": [
    "x_exp = Expression('x', x)\n",
    "w_exp = Expression('w', w)\n",
    "c_exp = Expression(c)\n",
    "d_exp = Expression(d)\n",
    "lt = x_exp <= c_exp\n",
    "gt = w_exp <= d_exp\n",
    "formula = stlcg.Always(subformula=lt)\n",
    "inputs = x\n",
    "var_dict = {'c': c}\n",
    "print(formula)\n",
    "viz.make_stl_graph(formula)"
   ]
  },
  {
   "cell_type": "code",
   "execution_count": 12,
   "metadata": {},
   "outputs": [],
   "source": [
    "learning_rate = 0.05\n",
    "device = torch.device(\"cpu\")\n",
    "optimizer = torch.optim.Adam(var_dict.values(), lr=learning_rate)\n",
    "scale = 0.5\n"
   ]
  },
  {
   "cell_type": "code",
   "execution_count": 13,
   "metadata": {},
   "outputs": [
    {
     "name": "stdout",
     "output_type": "stream",
     "text": [
      "iteration: 0 -- loss: 0.995 ---- c:1.000 ---- scale:0.500 ---- true value:0.500\n",
      "iteration: 500 -- loss: 0.000 ---- c:0.003 ---- scale:1.500 ---- true value:-0.497\n",
      "iteration: 1000 -- loss: 0.000 ---- c:0.003 ---- scale:2.500 ---- true value:-0.497\n"
     ]
    },
    {
     "ename": "KeyboardInterrupt",
     "evalue": "",
     "output_type": "error",
     "traceback": [
      "\u001b[0;31m---------------------------------------------------------------------------\u001b[0m",
      "\u001b[0;31mKeyboardInterrupt\u001b[0m                         Traceback (most recent call last)",
      "\u001b[0;32m<ipython-input-13-a58e30f31b05>\u001b[0m in \u001b[0;36m<module>\u001b[0;34m\u001b[0m\n\u001b[1;32m      4\u001b[0m     \u001b[0;32mif\u001b[0m \u001b[0mi\u001b[0m \u001b[0;34m%\u001b[0m \u001b[0;36m500\u001b[0m \u001b[0;34m==\u001b[0m \u001b[0;36m0\u001b[0m\u001b[0;34m:\u001b[0m\u001b[0;34m\u001b[0m\u001b[0;34m\u001b[0m\u001b[0m\n\u001b[1;32m      5\u001b[0m         \u001b[0mprint_learning_progress\u001b[0m\u001b[0;34m(\u001b[0m\u001b[0mformula\u001b[0m\u001b[0;34m,\u001b[0m \u001b[0minputs\u001b[0m\u001b[0;34m,\u001b[0m \u001b[0mvar_dict\u001b[0m\u001b[0;34m,\u001b[0m \u001b[0mi\u001b[0m\u001b[0;34m,\u001b[0m \u001b[0mloss\u001b[0m\u001b[0;34m,\u001b[0m \u001b[0msc\u001b[0m\u001b[0;34m)\u001b[0m\u001b[0;34m\u001b[0m\u001b[0;34m\u001b[0m\u001b[0m\n\u001b[0;32m----> 6\u001b[0;31m     \u001b[0mloss\u001b[0m\u001b[0;34m.\u001b[0m\u001b[0mbackward\u001b[0m\u001b[0;34m(\u001b[0m\u001b[0;34m)\u001b[0m\u001b[0;34m\u001b[0m\u001b[0;34m\u001b[0m\u001b[0m\n\u001b[0m\u001b[1;32m      7\u001b[0m     \u001b[0;32mwith\u001b[0m \u001b[0mtorch\u001b[0m\u001b[0;34m.\u001b[0m\u001b[0mno_grad\u001b[0m\u001b[0;34m(\u001b[0m\u001b[0;34m)\u001b[0m\u001b[0;34m:\u001b[0m\u001b[0;34m\u001b[0m\u001b[0;34m\u001b[0m\u001b[0m\n\u001b[1;32m      8\u001b[0m         \u001b[0mc\u001b[0m \u001b[0;34m-=\u001b[0m \u001b[0mlearning_rate\u001b[0m \u001b[0;34m*\u001b[0m \u001b[0mc\u001b[0m\u001b[0;34m.\u001b[0m\u001b[0mgrad\u001b[0m\u001b[0;34m\u001b[0m\u001b[0;34m\u001b[0m\u001b[0m\n",
      "\u001b[0;32m~/repos/stlcg/stlcg-env/lib/python3.7/site-packages/torch/tensor.py\u001b[0m in \u001b[0;36mbackward\u001b[0;34m(self, gradient, retain_graph, create_graph)\u001b[0m\n\u001b[1;32m    164\u001b[0m                 \u001b[0mproducts\u001b[0m\u001b[0;34m.\u001b[0m \u001b[0mDefaults\u001b[0m \u001b[0mto\u001b[0m\u001b[0;31m \u001b[0m\u001b[0;31m`\u001b[0m\u001b[0;31m`\u001b[0m\u001b[0;32mFalse\u001b[0m\u001b[0;31m`\u001b[0m\u001b[0;31m`\u001b[0m\u001b[0;34m.\u001b[0m\u001b[0;34m\u001b[0m\u001b[0;34m\u001b[0m\u001b[0m\n\u001b[1;32m    165\u001b[0m         \"\"\"\n\u001b[0;32m--> 166\u001b[0;31m         \u001b[0mtorch\u001b[0m\u001b[0;34m.\u001b[0m\u001b[0mautograd\u001b[0m\u001b[0;34m.\u001b[0m\u001b[0mbackward\u001b[0m\u001b[0;34m(\u001b[0m\u001b[0mself\u001b[0m\u001b[0;34m,\u001b[0m \u001b[0mgradient\u001b[0m\u001b[0;34m,\u001b[0m \u001b[0mretain_graph\u001b[0m\u001b[0;34m,\u001b[0m \u001b[0mcreate_graph\u001b[0m\u001b[0;34m)\u001b[0m\u001b[0;34m\u001b[0m\u001b[0;34m\u001b[0m\u001b[0m\n\u001b[0m\u001b[1;32m    167\u001b[0m \u001b[0;34m\u001b[0m\u001b[0m\n\u001b[1;32m    168\u001b[0m     \u001b[0;32mdef\u001b[0m \u001b[0mregister_hook\u001b[0m\u001b[0;34m(\u001b[0m\u001b[0mself\u001b[0m\u001b[0;34m,\u001b[0m \u001b[0mhook\u001b[0m\u001b[0;34m)\u001b[0m\u001b[0;34m:\u001b[0m\u001b[0;34m\u001b[0m\u001b[0;34m\u001b[0m\u001b[0m\n",
      "\u001b[0;32m~/repos/stlcg/stlcg-env/lib/python3.7/site-packages/torch/autograd/__init__.py\u001b[0m in \u001b[0;36mbackward\u001b[0;34m(tensors, grad_tensors, retain_graph, create_graph, grad_variables)\u001b[0m\n\u001b[1;32m     97\u001b[0m     Variable._execution_engine.run_backward(\n\u001b[1;32m     98\u001b[0m         \u001b[0mtensors\u001b[0m\u001b[0;34m,\u001b[0m \u001b[0mgrad_tensors\u001b[0m\u001b[0;34m,\u001b[0m \u001b[0mretain_graph\u001b[0m\u001b[0;34m,\u001b[0m \u001b[0mcreate_graph\u001b[0m\u001b[0;34m,\u001b[0m\u001b[0;34m\u001b[0m\u001b[0;34m\u001b[0m\u001b[0m\n\u001b[0;32m---> 99\u001b[0;31m         allow_unreachable=True)  # allow_unreachable flag\n\u001b[0m\u001b[1;32m    100\u001b[0m \u001b[0;34m\u001b[0m\u001b[0m\n\u001b[1;32m    101\u001b[0m \u001b[0;34m\u001b[0m\u001b[0m\n",
      "\u001b[0;31mKeyboardInterrupt\u001b[0m: "
     ]
    }
   ],
   "source": [
    "\n",
    "for i in range(20000):\n",
    "    sc = scale + i/500\n",
    "    loss = formula.robustness(inputs, scale=sc).mean()**2 #+ 0.001*(c**2 + d**2)\n",
    "    if i % 500 == 0:\n",
    "        print_learning_progress(formula, inputs, var_dict, i, loss, sc)\n",
    "    loss.backward()\n",
    "    with torch.no_grad():\n",
    "        c -= learning_rate * c.grad\n",
    "        c.grad.zero_()\n",
    "#         d -= learning_rate * d.grad\n",
    "#         d.grad.zero_()"
   ]
  },
  {
   "cell_type": "code",
   "execution_count": null,
   "metadata": {},
   "outputs": [],
   "source": []
  }
 ],
 "metadata": {
  "kernelspec": {
   "display_name": "Python 3.7 (stlcg)",
   "language": "python",
   "name": "stlcg-env"
  },
  "language_info": {
   "codemirror_mode": {
    "name": "ipython",
    "version": 3
   },
   "file_extension": ".py",
   "mimetype": "text/x-python",
   "name": "python",
   "nbconvert_exporter": "python",
   "pygments_lexer": "ipython3",
   "version": "3.7.7"
  }
 },
 "nbformat": 4,
 "nbformat_minor": 2
}
